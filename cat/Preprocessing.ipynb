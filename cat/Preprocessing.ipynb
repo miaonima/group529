{
 "cells": [
  {
   "cell_type": "markdown",
   "metadata": {},
   "source": [
    "# Preprocessing"
   ]
  },
  {
   "cell_type": "code",
   "execution_count": 1,
   "metadata": {},
   "outputs": [],
   "source": [
    "import pandas as pd\n",
    "import numpy as np"
   ]
  },
  {
   "cell_type": "code",
   "execution_count": 2,
   "metadata": {},
   "outputs": [
    {
     "name": "stdout",
     "output_type": "stream",
     "text": [
      "id,bin_0,bin_1,bin_2,bin_3,bin_4,nom_0,nom_1,nom_2,nom_3,nom_4,nom_5,nom_6,nom_7,nom_8,nom_9,ord_0,ord_1,ord_2,ord_3,ord_4,ord_5,day,month,target\n",
      "0,0,0,0,T,Y,Green,Triangle,Snake,Finland,Bassoon,50f116bcf,3ac1b8814,68f6ad3e9,c389000ab,2f4cb3d51,2,Grandmaster,Cold,h,D,kr,2,2,0\n",
      "1,0,1,0,T,Y,Green,Trapezoid,Hamster,Russia,Piano,b3b4d25d0,fbcb50fc1,3b6dd5612,4cd920251,f83c56c21,1,Grandmaster,Hot,a,A,bF,7,8,0\n",
      "2,0,0,0,F,Y,Blue,Trapezoid,Lion,Russia,Theremin,3263bdce5,0922e3cb8,a6a36f527,de9c9f684,ae6800dd0,1,Expert,Lava Hot,h,R,Jc,7,2,0\n",
      "3,0,1,0,F,Y,Red,Trapezoid,Snake,Canada,Oboe,f12246592,50d7ad46a,ec69236eb,4ade6ab69,8270f0d71,1,Grandmaster,Boiling Hot,i,D,kW,2,1,1\n",
      "4,0,0,0,F,N,Red,Trapezoid,Lion,Canada,Oboe,5b0f5acd5,1fe17a1fd,04ddac2be,cb43ab175,b164b72a7,1,Grandmaster,Freezing,a,R,qP,7,8,0\n",
      "5,0,1,1,T,N,Blue,Polygon,Lion,Costa Rica,Oboe,46cab09da,29a854620,ff5b35098,b7e6f8e6f,51e27c16d,1,Novice,Freezing,j,E,PZ,2,2,0\n",
      "6,0,1,1,T,N,Green,Trapezoid,Cat,China,Piano,be5592604,3393a0f78,c6587685d,06f5ae149,7e3d79a0d,2,Grandmaster,Lava Hot,g,P,wy,5,4,0\n",
      "7,1,0,1,T,Y,Red,Triangle,Dog,Russia,Oboe,72f8028dc,55eed5058,2dd9daf45,98addc2c9,feb72ecc2,1,Novice,Lava Hot,j,K,Ed,4,2,0\n",
      "8,1,0,1,T,Y,Blue,Square,Hamster,Canada,Bassoon,4604905e7,3e44d44eb,3f0057c9b,a2d110837,34a7273bf,2,Novice,Boiling Hot,e,V,qo,3,4,0\n"
     ]
    }
   ],
   "source": [
    "!head train.csv"
   ]
  },
  {
   "cell_type": "code",
   "execution_count": 3,
   "metadata": {},
   "outputs": [
    {
     "name": "stdout",
     "output_type": "stream",
     "text": [
      "(500000, 24)\n"
     ]
    }
   ],
   "source": [
    "# Read the data\n",
    "df_train = pd.read_csv(\"train.csv\")\n",
    "df_test = pd.read_csv(\"test.csv\")\n",
    "\n",
    "y_train = df_train.loc[:, \"target\"]\n",
    "df_train.drop(columns=\"target\", inplace=True)\n",
    "\n",
    "# Length of training set\n",
    "N_train = len(df_train)\n",
    "\n",
    "# We concatentate the training set and test set together to simplify\n",
    "# the encoding process. We will split them back in the end of this\n",
    "# preprocessing script.\n",
    "# The order of data is not lost since there is a unique id column.\n",
    "combine = pd.concat((df_train, df_test)).reset_index(drop=True)\n",
    "\n",
    "del df_train, df_test\n",
    "print(combine.shape)"
   ]
  },
  {
   "cell_type": "markdown",
   "metadata": {},
   "source": [
    "## Check NA for both train set and test set"
   ]
  },
  {
   "cell_type": "code",
   "execution_count": 4,
   "metadata": {},
   "outputs": [
    {
     "data": {
      "text/plain": [
       "0"
      ]
     },
     "execution_count": 4,
     "metadata": {},
     "output_type": "execute_result"
    }
   ],
   "source": [
    "combine.isna().sum().sum()"
   ]
  },
  {
   "cell_type": "markdown",
   "metadata": {},
   "source": [
    "Conclusion: We see that there is no NA's in the data, so we may proceed with the data wrangling process."
   ]
  },
  {
   "cell_type": "code",
   "execution_count": 5,
   "metadata": {},
   "outputs": [],
   "source": [
    "# We keep track of which columns are one-hot encoded, and which ones are not\n",
    "# TODO\n",
    "data_columns = []\n",
    "one_hot_columns = []"
   ]
  },
  {
   "cell_type": "markdown",
   "metadata": {},
   "source": [
    "## Binary features"
   ]
  },
  {
   "cell_type": "code",
   "execution_count": 6,
   "metadata": {},
   "outputs": [],
   "source": [
    "# For columns bin_3, bin_4, we convert T and F to 1 and 0 respectively.\n",
    "combine.loc[:, \"bin_3\"] = (combine.loc[:, \"bin_3\"] == \"T\").astype(int)\n",
    "combine.loc[:, \"bin_4\"] = (combine.loc[:, \"bin_4\"] == \"Y\").astype(int)"
   ]
  },
  {
   "cell_type": "code",
   "execution_count": 7,
   "metadata": {},
   "outputs": [
    {
     "data": {
      "text/html": [
       "<div>\n",
       "<style scoped>\n",
       "    .dataframe tbody tr th:only-of-type {\n",
       "        vertical-align: middle;\n",
       "    }\n",
       "\n",
       "    .dataframe tbody tr th {\n",
       "        vertical-align: top;\n",
       "    }\n",
       "\n",
       "    .dataframe thead th {\n",
       "        text-align: right;\n",
       "    }\n",
       "</style>\n",
       "<table border=\"1\" class=\"dataframe\">\n",
       "  <thead>\n",
       "    <tr style=\"text-align: right;\">\n",
       "      <th></th>\n",
       "      <th>bin_0</th>\n",
       "      <th>bin_1</th>\n",
       "      <th>bin_2</th>\n",
       "      <th>bin_3</th>\n",
       "      <th>bin_4</th>\n",
       "    </tr>\n",
       "  </thead>\n",
       "  <tbody>\n",
       "    <tr>\n",
       "      <th>0</th>\n",
       "      <td>0</td>\n",
       "      <td>0</td>\n",
       "      <td>0</td>\n",
       "      <td>1</td>\n",
       "      <td>1</td>\n",
       "    </tr>\n",
       "    <tr>\n",
       "      <th>1</th>\n",
       "      <td>0</td>\n",
       "      <td>1</td>\n",
       "      <td>0</td>\n",
       "      <td>1</td>\n",
       "      <td>1</td>\n",
       "    </tr>\n",
       "    <tr>\n",
       "      <th>2</th>\n",
       "      <td>0</td>\n",
       "      <td>0</td>\n",
       "      <td>0</td>\n",
       "      <td>0</td>\n",
       "      <td>1</td>\n",
       "    </tr>\n",
       "    <tr>\n",
       "      <th>3</th>\n",
       "      <td>0</td>\n",
       "      <td>1</td>\n",
       "      <td>0</td>\n",
       "      <td>0</td>\n",
       "      <td>1</td>\n",
       "    </tr>\n",
       "    <tr>\n",
       "      <th>4</th>\n",
       "      <td>0</td>\n",
       "      <td>0</td>\n",
       "      <td>0</td>\n",
       "      <td>0</td>\n",
       "      <td>0</td>\n",
       "    </tr>\n",
       "  </tbody>\n",
       "</table>\n",
       "</div>"
      ],
      "text/plain": [
       "   bin_0  bin_1  bin_2  bin_3  bin_4\n",
       "0      0      0      0      1      1\n",
       "1      0      1      0      1      1\n",
       "2      0      0      0      0      1\n",
       "3      0      1      0      0      1\n",
       "4      0      0      0      0      0"
      ]
     },
     "execution_count": 7,
     "metadata": {},
     "output_type": "execute_result"
    }
   ],
   "source": [
    "combine.loc[:, \"bin_0\": \"bin_4\"].head()"
   ]
  },
  {
   "cell_type": "code",
   "execution_count": 8,
   "metadata": {},
   "outputs": [],
   "source": [
    "bin_features = ['bin_0', 'bin_1', 'bin_2', 'bin_3', 'bin_4']\n",
    "data_columns += bin_features\n",
    "one_hot_columns += bin_features"
   ]
  },
  {
   "cell_type": "markdown",
   "metadata": {},
   "source": [
    "## Nominal Features\n",
    "\n",
    "We see from simple EDA that nom_0 ... nom_4 are low cardinal features. We use both label encoding and one hot encoding on them, and choose only the appropriate set of features needed by the classifier in the training process.\n",
    "\n",
    "CART (e.g. Decision Tree, Random Forest, XGB) label encoding\n",
    "\n",
    "Others (e.g. Logistic Regression) one-hot encoding"
   ]
  },
  {
   "cell_type": "code",
   "execution_count": 9,
   "metadata": {},
   "outputs": [],
   "source": [
    "nominal_low_card = [\"nom_%d\" % i for i in range(0, 5)]"
   ]
  },
  {
   "cell_type": "code",
   "execution_count": 10,
   "metadata": {},
   "outputs": [],
   "source": [
    "# Generate one hot encoding columns\n",
    "nom_dummy = pd.get_dummies(combine,\n",
    "        columns=nominal_low_card, drop_first=True)\n",
    "combine = pd.concat(\n",
    "    (combine, nom_dummy.loc[:, \"nom_0_Green\": \"nom_4_Theremin\"]),\n",
    "    axis=\"columns\"\n",
    ")"
   ]
  },
  {
   "cell_type": "code",
   "execution_count": 11,
   "metadata": {},
   "outputs": [
    {
     "data": {
      "text/plain": [
       "(500000, 44)"
      ]
     },
     "execution_count": 11,
     "metadata": {},
     "output_type": "execute_result"
    }
   ],
   "source": [
    "combine.shape"
   ]
  },
  {
   "cell_type": "code",
   "execution_count": 12,
   "metadata": {},
   "outputs": [],
   "source": [
    "# Replace the original columns Label encoding with label encoding\n",
    "for col_name in nominal_low_card:\n",
    "    labels = combine.loc[:, col_name].unique()\n",
    "    repl_dict = dict(zip(labels, range(len(labels))))\n",
    "    combine.loc[:, col_name].replace(repl_dict, inplace=True)"
   ]
  },
  {
   "cell_type": "code",
   "execution_count": 13,
   "metadata": {
    "scrolled": true
   },
   "outputs": [
    {
     "data": {
      "text/plain": [
       "nom_0    3\n",
       "nom_1    6\n",
       "nom_2    6\n",
       "nom_3    6\n",
       "nom_4    4\n",
       "dtype: int64"
      ]
     },
     "execution_count": 13,
     "metadata": {},
     "output_type": "execute_result"
    }
   ],
   "source": [
    "# Check that label encoding works correctly\n",
    "combine.loc[:, nominal_low_card].nunique()"
   ]
  },
  {
   "cell_type": "code",
   "execution_count": 14,
   "metadata": {},
   "outputs": [],
   "source": [
    "# Appending low cardinal nominal columns\n",
    "dummy_columns = list(\n",
    "    nom_dummy.loc[:,\n",
    "    \"nom_0_Green\": \"nom_4_Theremin\"].columns\n",
    ")\n",
    "\n",
    "data_columns += nominal_low_card\n",
    "one_hot_columns += dummy_columns"
   ]
  },
  {
   "cell_type": "markdown",
   "metadata": {},
   "source": [
    "For columns nom_5 to nom_9, we treat them as hexademical numbers (hashing as label encoding), and then we calculate the frequency and append this as a feature. Notice we cannot do one-hot encoding on them since this makes the matrix way too sparse for anything meaningful."
   ]
  },
  {
   "cell_type": "code",
   "execution_count": 15,
   "metadata": {},
   "outputs": [
    {
     "data": {
      "text/plain": [
       "nom_5      222\n",
       "nom_6      522\n",
       "nom_7     1220\n",
       "nom_8     2219\n",
       "nom_9    12068\n",
       "dtype: int64"
      ]
     },
     "execution_count": 15,
     "metadata": {},
     "output_type": "execute_result"
    }
   ],
   "source": [
    "# This jusifies dropping them from one-hot encoding\n",
    "nominal_high_card = [\"nom_%d\" % i for i in range(5, 10)]\n",
    "combine.loc[:, nominal_high_card].nunique()"
   ]
  },
  {
   "cell_type": "code",
   "execution_count": 16,
   "metadata": {},
   "outputs": [],
   "source": [
    "# Label encoding via hashing and frequency encoding\n",
    "# In this case we just convert these \"hex-like\" strings\n",
    "# to large positive integers.\n",
    "\n",
    "import functools\n",
    "base16 = functools.partial(int, base=16)\n",
    "\n",
    "for i in range(5, 10):\n",
    "    col_name = \"nom_%d\" % i\n",
    "    freq_col_name = \"nom_%d_freq\" % i\n",
    "    \n",
    "    nom_hex = combine.loc[:, col_name].astype(str).apply(base16)\n",
    "    freq = nom_hex.value_counts() / len(combine)\n",
    "    \n",
    "    # TODO: pd.Series.replace causing OOM's\n",
    "    # switching to manual lookup via df.apply\n",
    "\n",
    "    combine.loc[:, freq_col_name] = nom_hex.apply(lambda x: freq[x])\n",
    "    combine.loc[:, col_name] = nom_hex"
   ]
  },
  {
   "cell_type": "code",
   "execution_count": 17,
   "metadata": {},
   "outputs": [
    {
     "data": {
      "text/html": [
       "<div>\n",
       "<style scoped>\n",
       "    .dataframe tbody tr th:only-of-type {\n",
       "        vertical-align: middle;\n",
       "    }\n",
       "\n",
       "    .dataframe tbody tr th {\n",
       "        vertical-align: top;\n",
       "    }\n",
       "\n",
       "    .dataframe thead th {\n",
       "        text-align: right;\n",
       "    }\n",
       "</style>\n",
       "<table border=\"1\" class=\"dataframe\">\n",
       "  <thead>\n",
       "    <tr style=\"text-align: right;\">\n",
       "      <th></th>\n",
       "      <th>nom_5</th>\n",
       "      <th>nom_6</th>\n",
       "      <th>nom_7</th>\n",
       "      <th>nom_8</th>\n",
       "      <th>nom_9</th>\n",
       "    </tr>\n",
       "  </thead>\n",
       "  <tbody>\n",
       "    <tr>\n",
       "      <th>0</th>\n",
       "      <td>21727636431</td>\n",
       "      <td>15772387348</td>\n",
       "      <td>28175946729</td>\n",
       "      <td>52488569003</td>\n",
       "      <td>12696894801</td>\n",
       "    </tr>\n",
       "    <tr>\n",
       "      <th>1</th>\n",
       "      <td>48239551952</td>\n",
       "      <td>67590492097</td>\n",
       "      <td>15952860690</td>\n",
       "      <td>20628767313</td>\n",
       "      <td>66635263009</td>\n",
       "    </tr>\n",
       "    <tr>\n",
       "      <th>2</th>\n",
       "      <td>13526359269</td>\n",
       "      <td>2452503736</td>\n",
       "      <td>44731659559</td>\n",
       "      <td>59756902020</td>\n",
       "      <td>46816824784</td>\n",
       "    </tr>\n",
       "    <tr>\n",
       "      <th>3</th>\n",
       "      <td>64728884626</td>\n",
       "      <td>21700990058</td>\n",
       "      <td>63461013227</td>\n",
       "      <td>20097444713</td>\n",
       "      <td>35015036273</td>\n",
       "    </tr>\n",
       "    <tr>\n",
       "      <th>4</th>\n",
       "      <td>24443727061</td>\n",
       "      <td>8557928957</td>\n",
       "      <td>1306182334</td>\n",
       "      <td>54563352949</td>\n",
       "      <td>47618683559</td>\n",
       "    </tr>\n",
       "  </tbody>\n",
       "</table>\n",
       "</div>"
      ],
      "text/plain": [
       "         nom_5        nom_6        nom_7        nom_8        nom_9\n",
       "0  21727636431  15772387348  28175946729  52488569003  12696894801\n",
       "1  48239551952  67590492097  15952860690  20628767313  66635263009\n",
       "2  13526359269   2452503736  44731659559  59756902020  46816824784\n",
       "3  64728884626  21700990058  63461013227  20097444713  35015036273\n",
       "4  24443727061   8557928957   1306182334  54563352949  47618683559"
      ]
     },
     "execution_count": 17,
     "metadata": {},
     "output_type": "execute_result"
    }
   ],
   "source": [
    "# Let's check the results\n",
    "combine.loc[:, \"nom_5\":\"nom_9\"].head()"
   ]
  },
  {
   "cell_type": "code",
   "execution_count": 18,
   "metadata": {},
   "outputs": [
    {
     "data": {
      "text/html": [
       "<div>\n",
       "<style scoped>\n",
       "    .dataframe tbody tr th:only-of-type {\n",
       "        vertical-align: middle;\n",
       "    }\n",
       "\n",
       "    .dataframe tbody tr th {\n",
       "        vertical-align: top;\n",
       "    }\n",
       "\n",
       "    .dataframe thead th {\n",
       "        text-align: right;\n",
       "    }\n",
       "</style>\n",
       "<table border=\"1\" class=\"dataframe\">\n",
       "  <thead>\n",
       "    <tr style=\"text-align: right;\">\n",
       "      <th></th>\n",
       "      <th>nom_5_freq</th>\n",
       "      <th>nom_6_freq</th>\n",
       "      <th>nom_7_freq</th>\n",
       "      <th>nom_8_freq</th>\n",
       "      <th>nom_9_freq</th>\n",
       "    </tr>\n",
       "  </thead>\n",
       "  <tbody>\n",
       "    <tr>\n",
       "      <th>0</th>\n",
       "      <td>0.008624</td>\n",
       "      <td>0.003752</td>\n",
       "      <td>0.000820</td>\n",
       "      <td>0.000978</td>\n",
       "      <td>0.000064</td>\n",
       "    </tr>\n",
       "    <tr>\n",
       "      <th>1</th>\n",
       "      <td>0.002608</td>\n",
       "      <td>0.002736</td>\n",
       "      <td>0.000924</td>\n",
       "      <td>0.000358</td>\n",
       "      <td>0.000046</td>\n",
       "    </tr>\n",
       "    <tr>\n",
       "      <th>2</th>\n",
       "      <td>0.008518</td>\n",
       "      <td>0.003868</td>\n",
       "      <td>0.001600</td>\n",
       "      <td>0.000878</td>\n",
       "      <td>0.000100</td>\n",
       "    </tr>\n",
       "    <tr>\n",
       "      <th>3</th>\n",
       "      <td>0.003256</td>\n",
       "      <td>0.003874</td>\n",
       "      <td>0.001500</td>\n",
       "      <td>0.000714</td>\n",
       "      <td>0.000146</td>\n",
       "    </tr>\n",
       "    <tr>\n",
       "      <th>4</th>\n",
       "      <td>0.006602</td>\n",
       "      <td>0.003858</td>\n",
       "      <td>0.001520</td>\n",
       "      <td>0.000690</td>\n",
       "      <td>0.000126</td>\n",
       "    </tr>\n",
       "  </tbody>\n",
       "</table>\n",
       "</div>"
      ],
      "text/plain": [
       "   nom_5_freq  nom_6_freq  nom_7_freq  nom_8_freq  nom_9_freq\n",
       "0    0.008624    0.003752    0.000820    0.000978    0.000064\n",
       "1    0.002608    0.002736    0.000924    0.000358    0.000046\n",
       "2    0.008518    0.003868    0.001600    0.000878    0.000100\n",
       "3    0.003256    0.003874    0.001500    0.000714    0.000146\n",
       "4    0.006602    0.003858    0.001520    0.000690    0.000126"
      ]
     },
     "execution_count": 18,
     "metadata": {},
     "output_type": "execute_result"
    }
   ],
   "source": [
    "combine.loc[:, \"nom_5_freq\":\"nom_9_freq\"].head()"
   ]
  },
  {
   "cell_type": "code",
   "execution_count": 19,
   "metadata": {},
   "outputs": [],
   "source": [
    "# Appending high cardinal columns\n",
    "hc = ['nom_5', 'nom_6', 'nom_7', 'nom_8', 'nom_9']\n",
    "hc_freq = ['nom_5_freq', 'nom_6_freq',\n",
    "    'nom_7_freq', 'nom_8_freq', 'nom_9_freq']\n",
    "\n",
    "data_columns += hc\n",
    "one_hot_columns += hc_freq\n",
    "\n",
    "# We also append the frequency encoding to the cart methods\n",
    "data_columns += hc_freq"
   ]
  },
  {
   "cell_type": "markdown",
   "metadata": {},
   "source": [
    "## Ordinal features"
   ]
  },
  {
   "cell_type": "code",
   "execution_count": 20,
   "metadata": {},
   "outputs": [
    {
     "data": {
      "text/html": [
       "<div>\n",
       "<style scoped>\n",
       "    .dataframe tbody tr th:only-of-type {\n",
       "        vertical-align: middle;\n",
       "    }\n",
       "\n",
       "    .dataframe tbody tr th {\n",
       "        vertical-align: top;\n",
       "    }\n",
       "\n",
       "    .dataframe thead th {\n",
       "        text-align: right;\n",
       "    }\n",
       "</style>\n",
       "<table border=\"1\" class=\"dataframe\">\n",
       "  <thead>\n",
       "    <tr style=\"text-align: right;\">\n",
       "      <th></th>\n",
       "      <th>ord_0</th>\n",
       "      <th>ord_1</th>\n",
       "      <th>ord_2</th>\n",
       "      <th>ord_3</th>\n",
       "      <th>ord_4</th>\n",
       "      <th>ord_5</th>\n",
       "    </tr>\n",
       "  </thead>\n",
       "  <tbody>\n",
       "    <tr>\n",
       "      <th>0</th>\n",
       "      <td>2</td>\n",
       "      <td>Grandmaster</td>\n",
       "      <td>Cold</td>\n",
       "      <td>h</td>\n",
       "      <td>D</td>\n",
       "      <td>kr</td>\n",
       "    </tr>\n",
       "    <tr>\n",
       "      <th>1</th>\n",
       "      <td>1</td>\n",
       "      <td>Grandmaster</td>\n",
       "      <td>Hot</td>\n",
       "      <td>a</td>\n",
       "      <td>A</td>\n",
       "      <td>bF</td>\n",
       "    </tr>\n",
       "    <tr>\n",
       "      <th>2</th>\n",
       "      <td>1</td>\n",
       "      <td>Expert</td>\n",
       "      <td>Lava Hot</td>\n",
       "      <td>h</td>\n",
       "      <td>R</td>\n",
       "      <td>Jc</td>\n",
       "    </tr>\n",
       "    <tr>\n",
       "      <th>3</th>\n",
       "      <td>1</td>\n",
       "      <td>Grandmaster</td>\n",
       "      <td>Boiling Hot</td>\n",
       "      <td>i</td>\n",
       "      <td>D</td>\n",
       "      <td>kW</td>\n",
       "    </tr>\n",
       "    <tr>\n",
       "      <th>4</th>\n",
       "      <td>1</td>\n",
       "      <td>Grandmaster</td>\n",
       "      <td>Freezing</td>\n",
       "      <td>a</td>\n",
       "      <td>R</td>\n",
       "      <td>qP</td>\n",
       "    </tr>\n",
       "  </tbody>\n",
       "</table>\n",
       "</div>"
      ],
      "text/plain": [
       "   ord_0        ord_1        ord_2 ord_3 ord_4 ord_5\n",
       "0      2  Grandmaster         Cold     h     D    kr\n",
       "1      1  Grandmaster          Hot     a     A    bF\n",
       "2      1       Expert     Lava Hot     h     R    Jc\n",
       "3      1  Grandmaster  Boiling Hot     i     D    kW\n",
       "4      1  Grandmaster     Freezing     a     R    qP"
      ]
     },
     "execution_count": 20,
     "metadata": {},
     "output_type": "execute_result"
    }
   ],
   "source": [
    "combine.loc[:, \"ord_0\": \"ord_5\"].head()"
   ]
  },
  {
   "cell_type": "code",
   "execution_count": 21,
   "metadata": {},
   "outputs": [
    {
     "data": {
      "text/plain": [
       "array([2, 1, 3], dtype=int64)"
      ]
     },
     "execution_count": 21,
     "metadata": {},
     "output_type": "execute_result"
    }
   ],
   "source": [
    "# Some simple inspection on ord_0\n",
    "combine.loc[:, \"ord_0\"].unique()"
   ]
  },
  {
   "cell_type": "code",
   "execution_count": 22,
   "metadata": {},
   "outputs": [],
   "source": [
    "# For ord_0, we rename 1, 2, 3 to 0, 1, 2 just for cohesiveness\n",
    "combine.loc[:, \"ord_0\"] -= 1"
   ]
  },
  {
   "cell_type": "code",
   "execution_count": 23,
   "metadata": {},
   "outputs": [
    {
     "data": {
      "text/plain": [
       "array(['Grandmaster', 'Expert', 'Novice', 'Contributor', 'Master'],\n",
       "      dtype=object)"
      ]
     },
     "execution_count": 23,
     "metadata": {},
     "output_type": "execute_result"
    }
   ],
   "source": [
    "# We see that the items in ord_1 have their own meanings. We replace the values with their natural ordering.\n",
    "combine.loc[:, \"ord_1\"].unique()"
   ]
  },
  {
   "cell_type": "code",
   "execution_count": 24,
   "metadata": {},
   "outputs": [],
   "source": [
    "repl_dict = {\n",
    "    \"Novice\": 0,\n",
    "    \"Contributor\": 1,\n",
    "    \"Expert\": 2,\n",
    "    \"Master\": 3,\n",
    "    \"Grandmaster\": 4\n",
    "}\n",
    "\n",
    "combine.loc[:, \"ord_1\"].replace(repl_dict, inplace=True)"
   ]
  },
  {
   "cell_type": "code",
   "execution_count": 25,
   "metadata": {},
   "outputs": [
    {
     "data": {
      "text/plain": [
       "array(['Cold', 'Hot', 'Lava Hot', 'Boiling Hot', 'Freezing', 'Warm'],\n",
       "      dtype=object)"
      ]
     },
     "execution_count": 25,
     "metadata": {},
     "output_type": "execute_result"
    }
   ],
   "source": [
    "# Do the same for ord_2\n",
    "combine.loc[:, \"ord_2\"].unique()"
   ]
  },
  {
   "cell_type": "code",
   "execution_count": 26,
   "metadata": {},
   "outputs": [],
   "source": [
    "repl_dict = {\n",
    "    \"Freezing\": 0,\n",
    "    \"Cold\": 1,\n",
    "    \"Warm\": 2,\n",
    "    \"Hot\":3,\n",
    "    \"Boiling Hot\": 4,\n",
    "    \"Lava Hot\":5\n",
    "}\n",
    "\n",
    "combine.loc[:, \"ord_2\"].replace(repl_dict, inplace=True)"
   ]
  },
  {
   "cell_type": "code",
   "execution_count": 27,
   "metadata": {},
   "outputs": [
    {
     "data": {
      "text/plain": [
       "array(['h', 'a', 'i', 'j', 'g', 'e', 'd', 'b', 'k', 'f', 'l', 'n', 'o',\n",
       "       'c', 'm'], dtype=object)"
      ]
     },
     "execution_count": 27,
     "metadata": {},
     "output_type": "execute_result"
    }
   ],
   "source": [
    "# ord_3 consist of some alphabetical letters. We replace them with ascii codes.\n",
    "combine.loc[:, \"ord_3\"].unique()"
   ]
  },
  {
   "cell_type": "code",
   "execution_count": 28,
   "metadata": {},
   "outputs": [],
   "source": [
    "combine.loc[:, \"ord_3\"] = combine.loc[:, \"ord_3\"].apply(ord) - ord(\"a\")"
   ]
  },
  {
   "cell_type": "code",
   "execution_count": 29,
   "metadata": {},
   "outputs": [
    {
     "data": {
      "text/plain": [
       "array(['D', 'A', 'R', 'E', 'P', 'K', 'V', 'Q', 'Z', 'L', 'F', 'T', 'U',\n",
       "       'S', 'Y', 'B', 'H', 'J', 'N', 'G', 'W', 'I', 'O', 'C', 'X', 'M'],\n",
       "      dtype=object)"
      ]
     },
     "execution_count": 29,
     "metadata": {},
     "output_type": "execute_result"
    }
   ],
   "source": [
    "# Do the same for ord_4.\n",
    "combine.loc[:, \"ord_4\"].unique()"
   ]
  },
  {
   "cell_type": "code",
   "execution_count": 30,
   "metadata": {},
   "outputs": [],
   "source": [
    "combine.loc[:, \"ord_4\"] = combine.loc[:, \"ord_4\"].apply(ord) - ord(\"A\")"
   ]
  },
  {
   "cell_type": "code",
   "execution_count": 31,
   "metadata": {},
   "outputs": [
    {
     "data": {
      "text/plain": [
       "['AP', 'Ai', 'Aj', 'BA', 'BE']"
      ]
     },
     "execution_count": 31,
     "metadata": {},
     "output_type": "execute_result"
    }
   ],
   "source": [
    "# For ord_5, we know it should be sorted in lexicographic order. We take its index in the sorted values.\n",
    "symbols = sorted(combine.loc[:, \"ord_5\"].unique())\n",
    "symbols[:5]"
   ]
  },
  {
   "cell_type": "code",
   "execution_count": 32,
   "metadata": {},
   "outputs": [
    {
     "data": {
      "text/plain": [
       "0    136\n",
       "1     93\n",
       "2     31\n",
       "3    134\n",
       "4    158\n",
       "Name: ord_5, dtype: int64"
      ]
     },
     "execution_count": 32,
     "metadata": {},
     "output_type": "execute_result"
    }
   ],
   "source": [
    "combine.loc[:, \"ord_5\"] = combine.loc[:, \"ord_5\"].apply(lambda x: symbols.index(x))\n",
    "combine.loc[:, \"ord_5\"].head()"
   ]
  },
  {
   "cell_type": "markdown",
   "metadata": {},
   "source": [
    "We would like to inspect the impact of these ordinal variables.\n",
    "\n",
    "Take ord_5 as an example."
   ]
  },
  {
   "cell_type": "code",
   "execution_count": 33,
   "metadata": {},
   "outputs": [
    {
     "data": {
      "image/png": "[encoded data removed]",
      "text/plain": [
       "<Figure size 432x288 with 1 Axes>"
      ]
     },
     "metadata": {
      "needs_background": "light"
     },
     "output_type": "display_data"
    }
   ],
   "source": [
    "import statsmodels\n",
    "import statsmodels.api as sm\n",
    "import matplotlib.pyplot as plt\n",
    "lowess = statsmodels.nonparametric.smoothers_lowess.lowess\n",
    "\n",
    "# Suppress FutureWarning resulted from sm.add_constant + pd.DataFrame\n",
    "# without converting to numpy array\n",
    "import warnings\n",
    "warnings.simplefilter(action='ignore', category=FutureWarning)\n",
    "\n",
    "# Set random seed\n",
    "np.random.seed(42)\n",
    "\n",
    "sample_size = 1000\n",
    "choice = np.random.choice(N_train, size=sample_size, replace=False)\n",
    "X = combine.loc[choice, \"ord_5\"]\n",
    "y = y_train.loc[choice]\n",
    "\n",
    "# Sort X, y pairs by X ascending to plot properly\n",
    "X, y = list(zip(*sorted(zip(X, y), key=(lambda x: x[0]))))\n",
    "\n",
    "X_const = sm.add_constant(X, has_constant=\"add\")\n",
    "\n",
    "y_low = lowess(y, X)\n",
    "\n",
    "lr = sm.GLM(y, X_const, family=sm.families.Binomial()).fit()\n",
    "y_lr = lr.predict()\n",
    "\n",
    "# Jitter y little bit so se can see clearer\n",
    "y_noise = y + np.random.normal(0, 0.01, sample_size)\n",
    "\n",
    "plt.scatter(X, y_noise, s=0.1)\n",
    "plt.plot(y_low[:, 0], y_low[:, 1], 'r', label=\"Lowess\")\n",
    "plt.plot(X, y_lr, label=\"Logistic Regression\")\n",
    "plt.legend()\n",
    "plt.title(\"ord_5\")\n",
    "\n",
    "del sample_size, choice, X, y, X_const, y_low, lr, y_lr, y_noise"
   ]
  },
  {
   "cell_type": "markdown",
   "metadata": {},
   "source": [
    "Conclusion: indeed, we cannot treat these as quantities; label encoding is not enough, we need to one-hot encode them for the non-CART based methods."
   ]
  },
  {
   "cell_type": "code",
   "execution_count": 34,
   "metadata": {},
   "outputs": [],
   "source": [
    "# One hot encoding\n",
    "ord_columns = ['ord_0', 'ord_1', 'ord_2', 'ord_3', 'ord_4', 'ord_5']\n",
    "ord_dummy = pd.get_dummies(combine,\n",
    "        columns=ord_columns, drop_first=True)\n",
    "\n",
    "ord_dummy_columns = list(ord_dummy.loc[:, 'ord_0_1': 'ord_5_191'].columns)\n",
    "combine = pd.concat(\n",
    "    (combine, ord_dummy.loc[:, ord_dummy_columns]),\n",
    "    axis=\"columns\"\n",
    ")"
   ]
  },
  {
   "cell_type": "code",
   "execution_count": 35,
   "metadata": {},
   "outputs": [],
   "source": [
    "# Now append the ord columns\n",
    "data_columns += ord_columns\n",
    "one_hot_columns += ord_dummy_columns"
   ]
  },
  {
   "cell_type": "markdown",
   "metadata": {},
   "source": [
    "## Cyclic features"
   ]
  },
  {
   "cell_type": "markdown",
   "metadata": {},
   "source": [
    "For cyclical features, we transform this feature onto a unit circle via sin(), cos(), then drop the original ones."
   ]
  },
  {
   "cell_type": "code",
   "execution_count": 36,
   "metadata": {},
   "outputs": [],
   "source": [
    "def get_cyclic_feature(col: pd.Series, T):\n",
    "    interval = 2 * np.pi / T\n",
    "    phase = col * interval\n",
    "    return np.sin(phase), np.cos(phase)"
   ]
  },
  {
   "cell_type": "code",
   "execution_count": 37,
   "metadata": {},
   "outputs": [
    {
     "data": {
      "text/plain": [
       "array([2, 7, 5, 4, 3, 1, 6], dtype=int64)"
      ]
     },
     "execution_count": 37,
     "metadata": {},
     "output_type": "execute_result"
    }
   ],
   "source": [
    "# day and month are cyclical, so we use the sin/cos trick on them.\n",
    "# day means day of the week\n",
    "combine.loc[:, \"day\"].unique()"
   ]
  },
  {
   "cell_type": "code",
   "execution_count": 38,
   "metadata": {},
   "outputs": [],
   "source": [
    "day_sin, day_cos = get_cyclic_feature(combine.loc[:, \"day\"], 7)\n",
    "combine.loc[:, \"day_sin\"] = day_sin\n",
    "combine.loc[:, \"day_cos\"] = day_cos"
   ]
  },
  {
   "cell_type": "code",
   "execution_count": 39,
   "metadata": {},
   "outputs": [],
   "source": [
    "combine.drop(columns=\"day\", inplace=True)"
   ]
  },
  {
   "cell_type": "code",
   "execution_count": 40,
   "metadata": {},
   "outputs": [
    {
     "data": {
      "text/plain": [
       "array([ 2,  8,  1,  4, 10,  3,  7,  9, 12, 11,  5,  6], dtype=int64)"
      ]
     },
     "execution_count": 40,
     "metadata": {},
     "output_type": "execute_result"
    }
   ],
   "source": [
    "# Do the same for month\n",
    "combine.loc[:, \"month\"].unique()"
   ]
  },
  {
   "cell_type": "code",
   "execution_count": 41,
   "metadata": {},
   "outputs": [],
   "source": [
    "month_sin, month_cos = get_cyclic_feature(combine.loc[:, \"month\"], 12)\n",
    "combine.loc[:, \"month_sin\"] = month_sin\n",
    "combine.loc[:, \"month_cos\"] = month_cos"
   ]
  },
  {
   "cell_type": "code",
   "execution_count": 42,
   "metadata": {},
   "outputs": [],
   "source": [
    "combine.drop(columns=\"month\", inplace=True)"
   ]
  },
  {
   "cell_type": "code",
   "execution_count": 43,
   "metadata": {},
   "outputs": [],
   "source": [
    "cyc = [\"day_sin\", \"day_cos\", \"month_sin\", \"month_cos\"]\n",
    "data_columns += cyc\n",
    "one_hot_columns += cyc"
   ]
  },
  {
   "cell_type": "markdown",
   "metadata": {},
   "source": [
    "## Convert to integers and save as file "
   ]
  },
  {
   "cell_type": "code",
   "execution_count": 44,
   "metadata": {},
   "outputs": [
    {
     "name": "stdout",
     "output_type": "stream",
     "text": [
      "30 275\n"
     ]
    }
   ],
   "source": [
    "print(len(data_columns), len(one_hot_columns))"
   ]
  },
  {
   "cell_type": "code",
   "execution_count": 45,
   "metadata": {},
   "outputs": [
    {
     "data": {
      "text/plain": [
       "(500000, 292)"
      ]
     },
     "execution_count": 45,
     "metadata": {},
     "output_type": "execute_result"
    }
   ],
   "source": [
    "combine.shape"
   ]
  },
  {
   "cell_type": "code",
   "execution_count": 46,
   "metadata": {},
   "outputs": [],
   "source": [
    "# Let's split the dataset into the original training and test set,\n",
    "# and put back the target in the training set\n",
    "X_train = combine[:N_train]\n",
    "X_test = combine[N_train:]\n"
   ]
  },
  {
   "cell_type": "code",
   "execution_count": 47,
   "metadata": {},
   "outputs": [],
   "source": [
    "import h5py\n",
    "\n",
    "X_train.to_hdf(\"cat.hdf5\", \"train\")\n",
    "X_test.to_hdf(\"cat.hdf5\", \"test\")\n",
    "\n",
    "y_train.to_hdf(\"cat.hdf5\", \"train_target\")"
   ]
  },
  {
   "cell_type": "code",
   "execution_count": 48,
   "metadata": {},
   "outputs": [],
   "source": [
    "# Metadata: column names for the label encoding and one-hot encoding\n",
    "with h5py.File(\"cat.hdf5\", \"a\") as f:\n",
    "    f.create_dataset(\"data_columns\", data=np.array(data_columns, dtype='S'))\n",
    "    f.create_dataset(\"one_hot_columns\", data=np.array(one_hot_columns, dtype='S'))"
   ]
  }
 ],
 "metadata": {
  "kernelspec": {
   "display_name": "Python 3",
   "language": "python",
   "name": "python3"
  },
  "language_info": {
   "codemirror_mode": {
    "name": "ipython",
    "version": 3
   },
   "file_extension": ".py",
   "mimetype": "text/x-python",
   "name": "python",
   "nbconvert_exporter": "python",
   "pygments_lexer": "ipython3",
   "version": "3.7.4"
  }
 },
 "nbformat": 4,
 "nbformat_minor": 2
}
