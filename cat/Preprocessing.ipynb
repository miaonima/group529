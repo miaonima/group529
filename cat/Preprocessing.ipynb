{
 "cells": [
  {
   "cell_type": "code",
   "execution_count": 1,
   "metadata": {},
   "outputs": [],
   "source": [
    "import pandas as pd\n",
    "import numpy as np"
   ]
  },
  {
   "cell_type": "code",
   "execution_count": 2,
   "metadata": {},
   "outputs": [
    {
     "name": "stdout",
     "output_type": "stream",
     "text": [
      "id,bin_0,bin_1,bin_2,bin_3,bin_4,nom_0,nom_1,nom_2,nom_3,nom_4,nom_5,nom_6,nom_7,nom_8,nom_9,ord_0,ord_1,ord_2,ord_3,ord_4,ord_5,day,month,target\n",
      "0,0,0,0,T,Y,Green,Triangle,Snake,Finland,Bassoon,50f116bcf,3ac1b8814,68f6ad3e9,c389000ab,2f4cb3d51,2,Grandmaster,Cold,h,D,kr,2,2,0\n",
      "1,0,1,0,T,Y,Green,Trapezoid,Hamster,Russia,Piano,b3b4d25d0,fbcb50fc1,3b6dd5612,4cd920251,f83c56c21,1,Grandmaster,Hot,a,A,bF,7,8,0\n",
      "2,0,0,0,F,Y,Blue,Trapezoid,Lion,Russia,Theremin,3263bdce5,0922e3cb8,a6a36f527,de9c9f684,ae6800dd0,1,Expert,Lava Hot,h,R,Jc,7,2,0\n",
      "3,0,1,0,F,Y,Red,Trapezoid,Snake,Canada,Oboe,f12246592,50d7ad46a,ec69236eb,4ade6ab69,8270f0d71,1,Grandmaster,Boiling Hot,i,D,kW,2,1,1\n",
      "4,0,0,0,F,N,Red,Trapezoid,Lion,Canada,Oboe,5b0f5acd5,1fe17a1fd,04ddac2be,cb43ab175,b164b72a7,1,Grandmaster,Freezing,a,R,qP,7,8,0\n",
      "5,0,1,1,T,N,Blue,Polygon,Lion,Costa Rica,Oboe,46cab09da,29a854620,ff5b35098,b7e6f8e6f,51e27c16d,1,Novice,Freezing,j,E,PZ,2,2,0\n",
      "6,0,1,1,T,N,Green,Trapezoid,Cat,China,Piano,be5592604,3393a0f78,c6587685d,06f5ae149,7e3d79a0d,2,Grandmaster,Lava Hot,g,P,wy,5,4,0\n",
      "7,1,0,1,T,Y,Red,Triangle,Dog,Russia,Oboe,72f8028dc,55eed5058,2dd9daf45,98addc2c9,feb72ecc2,1,Novice,Lava Hot,j,K,Ed,4,2,0\n",
      "8,1,0,1,T,Y,Blue,Square,Hamster,Canada,Bassoon,4604905e7,3e44d44eb,3f0057c9b,a2d110837,34a7273bf,2,Novice,Boiling Hot,e,V,qo,3,4,0\n"
     ]
    }
   ],
   "source": [
    "!head train.csv"
   ]
  },
  {
   "cell_type": "code",
   "execution_count": 3,
   "metadata": {},
   "outputs": [
    {
     "name": "stdout",
     "output_type": "stream",
     "text": [
      "(500000, 24)\n"
     ]
    }
   ],
   "source": [
    "# Read the data\n",
    "df_train = pd.read_csv(\"train.csv\")\n",
    "df_test = pd.read_csv(\"test.csv\")\n",
    "\n",
    "y_train = df_train.loc[:, \"target\"]\n",
    "df_train.drop(columns=\"target\", inplace=True)\n",
    "\n",
    "# Length of training set\n",
    "N_train = len(df_train)\n",
    "\n",
    "combine = pd.concat((df_train, df_test))\n",
    "\n",
    "del df_train, df_test\n",
    "print(combine.shape)"
   ]
  },
  {
   "cell_type": "markdown",
   "metadata": {},
   "source": [
    "## Binary features"
   ]
  },
  {
   "cell_type": "code",
   "execution_count": 4,
   "metadata": {},
   "outputs": [],
   "source": [
    "# For columns bin_3, bin_4, we convert T and F to 1 and 0 respectively.\n",
    "combine.loc[:, \"bin_3\"] = (combine.loc[:, \"bin_3\"] == \"T\").astype(int)\n",
    "combine.loc[:, \"bin_4\"] = (combine.loc[:, \"bin_4\"] == \"Y\").astype(int)"
   ]
  },
  {
   "cell_type": "code",
   "execution_count": 5,
   "metadata": {},
   "outputs": [
    {
     "data": {
      "text/html": [
       "<div>\n",
       "<style scoped>\n",
       "    .dataframe tbody tr th:only-of-type {\n",
       "        vertical-align: middle;\n",
       "    }\n",
       "\n",
       "    .dataframe tbody tr th {\n",
       "        vertical-align: top;\n",
       "    }\n",
       "\n",
       "    .dataframe thead th {\n",
       "        text-align: right;\n",
       "    }\n",
       "</style>\n",
       "<table border=\"1\" class=\"dataframe\">\n",
       "  <thead>\n",
       "    <tr style=\"text-align: right;\">\n",
       "      <th></th>\n",
       "      <th>bin_0</th>\n",
       "      <th>bin_1</th>\n",
       "      <th>bin_2</th>\n",
       "      <th>bin_3</th>\n",
       "      <th>bin_4</th>\n",
       "    </tr>\n",
       "  </thead>\n",
       "  <tbody>\n",
       "    <tr>\n",
       "      <td>0</td>\n",
       "      <td>0</td>\n",
       "      <td>0</td>\n",
       "      <td>0</td>\n",
       "      <td>1</td>\n",
       "      <td>1</td>\n",
       "    </tr>\n",
       "    <tr>\n",
       "      <td>1</td>\n",
       "      <td>0</td>\n",
       "      <td>1</td>\n",
       "      <td>0</td>\n",
       "      <td>1</td>\n",
       "      <td>1</td>\n",
       "    </tr>\n",
       "    <tr>\n",
       "      <td>2</td>\n",
       "      <td>0</td>\n",
       "      <td>0</td>\n",
       "      <td>0</td>\n",
       "      <td>0</td>\n",
       "      <td>1</td>\n",
       "    </tr>\n",
       "    <tr>\n",
       "      <td>3</td>\n",
       "      <td>0</td>\n",
       "      <td>1</td>\n",
       "      <td>0</td>\n",
       "      <td>0</td>\n",
       "      <td>1</td>\n",
       "    </tr>\n",
       "    <tr>\n",
       "      <td>4</td>\n",
       "      <td>0</td>\n",
       "      <td>0</td>\n",
       "      <td>0</td>\n",
       "      <td>0</td>\n",
       "      <td>0</td>\n",
       "    </tr>\n",
       "  </tbody>\n",
       "</table>\n",
       "</div>"
      ],
      "text/plain": [
       "   bin_0  bin_1  bin_2  bin_3  bin_4\n",
       "0      0      0      0      1      1\n",
       "1      0      1      0      1      1\n",
       "2      0      0      0      0      1\n",
       "3      0      1      0      0      1\n",
       "4      0      0      0      0      0"
      ]
     },
     "execution_count": 5,
     "metadata": {},
     "output_type": "execute_result"
    }
   ],
   "source": [
    "combine.loc[:, \"bin_0\": \"bin_4\"].head()"
   ]
  },
  {
   "cell_type": "markdown",
   "metadata": {},
   "source": [
    "## Nominal Features\n",
    "\n",
    "We see from simple EDA that nom_0 ... nom_4 are low cardinal features. We use one hot encoding on them."
   ]
  },
  {
   "cell_type": "code",
   "execution_count": 6,
   "metadata": {},
   "outputs": [],
   "source": [
    "nominal_low_card = [\"nom_%d\" % i for i in range(0, 5)]\n",
    "combine = pd.get_dummies(combine, columns=nominal_low_card, drop_first=True)"
   ]
  },
  {
   "cell_type": "markdown",
   "metadata": {},
   "source": [
    "For columns nom_5 to nom_9, we treat them as hexademical numbers (hashing), and then we calculate the frequency."
   ]
  },
  {
   "cell_type": "code",
   "execution_count": 7,
   "metadata": {},
   "outputs": [],
   "source": [
    "import functools\n",
    "base16 = functools.partial(int, base=16)\n",
    "\n",
    "for i in range(5, 10):\n",
    "    col_name = \"nom_%d\" % i\n",
    "    freq_col_name = \"nom_%d_freq\" % i\n",
    "    \n",
    "    nom_hex = combine.loc[:, col_name].astype(str).apply(base16)\n",
    "    freq = nom_hex.value_counts() / len(combine)\n",
    "    combine.loc[:, freq_col_name] = nom_hex.apply(lambda x: freq[x])"
   ]
  },
  {
   "cell_type": "code",
   "execution_count": 9,
   "metadata": {},
   "outputs": [
    {
     "data": {
      "text/plain": [
       "['id',\n",
       " 'bin_0',\n",
       " 'bin_1',\n",
       " 'bin_2',\n",
       " 'bin_3',\n",
       " 'bin_4',\n",
       " 'nom_5',\n",
       " 'nom_6',\n",
       " 'nom_7',\n",
       " 'nom_8',\n",
       " 'nom_9',\n",
       " 'ord_0',\n",
       " 'ord_1',\n",
       " 'ord_2',\n",
       " 'ord_3',\n",
       " 'ord_4',\n",
       " 'ord_5',\n",
       " 'day',\n",
       " 'month',\n",
       " 'nom_0_Green',\n",
       " 'nom_0_Red',\n",
       " 'nom_1_Polygon',\n",
       " 'nom_1_Square',\n",
       " 'nom_1_Star',\n",
       " 'nom_1_Trapezoid',\n",
       " 'nom_1_Triangle',\n",
       " 'nom_2_Cat',\n",
       " 'nom_2_Dog',\n",
       " 'nom_2_Hamster',\n",
       " 'nom_2_Lion',\n",
       " 'nom_2_Snake',\n",
       " 'nom_3_China',\n",
       " 'nom_3_Costa Rica',\n",
       " 'nom_3_Finland',\n",
       " 'nom_3_India',\n",
       " 'nom_3_Russia',\n",
       " 'nom_4_Oboe',\n",
       " 'nom_4_Piano',\n",
       " 'nom_4_Theremin',\n",
       " 'nom_5_freq',\n",
       " 'nom_6_freq',\n",
       " 'nom_7_freq',\n",
       " 'nom_8_freq',\n",
       " 'nom_9_freq']"
      ]
     },
     "execution_count": 9,
     "metadata": {},
     "output_type": "execute_result"
    }
   ],
   "source": [
    "combine.columns.tolist()"
   ]
  },
  {
   "cell_type": "code",
   "execution_count": null,
   "metadata": {},
   "outputs": [],
   "source": []
  }
 ],
 "metadata": {
  "kernelspec": {
   "display_name": "Python 3",
   "language": "python",
   "name": "python3"
  },
  "language_info": {
   "codemirror_mode": {
    "name": "ipython",
    "version": 3
   },
   "file_extension": ".py",
   "mimetype": "text/x-python",
   "name": "python",
   "nbconvert_exporter": "python",
   "pygments_lexer": "ipython3",
   "version": "3.7.1"
  }
 },
 "nbformat": 4,
 "nbformat_minor": 2
}
