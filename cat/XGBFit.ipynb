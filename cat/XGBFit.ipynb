{
 "cells": [
  {
   "cell_type": "markdown",
   "metadata": {},
   "source": [
    "# Model Fit"
   ]
  },
  {
   "cell_type": "code",
   "execution_count": 1,
   "metadata": {},
   "outputs": [],
   "source": [
    "import pandas as pd\n",
    "import numpy as np\n",
    "import h5py\n",
    "\n",
    "from sklearn import model_selection, linear_model, metrics, pipeline, preprocessing\n",
    "\n",
    "# Set random seed\n",
    "np.random.seed(42)"
   ]
  },
  {
   "cell_type": "code",
   "execution_count": 2,
   "metadata": {},
   "outputs": [],
   "source": [
    "# Load the data and separate the id's\n",
    "X_data  = pd.read_hdf(\"cat.hdf5\", \"train\")\n",
    "y_data  = pd.read_hdf(\"cat.hdf5\", \"train_target\")\n",
    "X_test  = pd.read_hdf(\"cat.hdf5\", \"test\")\n",
    "\n",
    "# Store and drop data ID\n",
    "data_id = X_data.loc[:, \"id\"]\n",
    "test_id = X_test.loc[:, \"id\"]\n",
    "\n",
    "X_data.drop(columns=\"id\", inplace=True)\n",
    "X_test.drop(columns=\"id\", inplace=True)"
   ]
  },
  {
   "cell_type": "code",
   "execution_count": 3,
   "metadata": {},
   "outputs": [],
   "source": [
    "with h5py.File(\"cat.hdf5\", \"r\") as f:\n",
    "    data_columns = f['data_columns'][()]\n",
    "    one_hot_columns = f['one_hot_columns'][()]\n",
    "\n",
    "data_columns = list(data_columns.astype(\"U\"))\n",
    "one_hot_columns = list(one_hot_columns.astype(\"U\"))"
   ]
  },
  {
   "cell_type": "code",
   "execution_count": 4,
   "metadata": {},
   "outputs": [],
   "source": [
    "# Split the data with labels into training and validation.\n",
    "X_train, X_val, y_train, y_val = model_selection.train_test_split(X_data, y_data, test_size=0.3)"
   ]
  },
  {
   "cell_type": "code",
   "execution_count": 5,
   "metadata": {},
   "outputs": [
    {
     "name": "stdout",
     "output_type": "stream",
     "text": [
      "(210000, 291) (210000,) (90000, 291) (90000,) (200000, 291)\n"
     ]
    }
   ],
   "source": [
    "print(X_train.shape, y_train.shape, X_val.shape, y_val.shape, X_test.shape)"
   ]
  },
  {
   "cell_type": "markdown",
   "metadata": {},
   "source": [
    "## Column selector in the pipeline\n",
    "Adapted from https://ramhiser.com/post/2018-04-16-building-scikit-learn-pipeline-with-pandas-dataframe/"
   ]
  },
  {
   "cell_type": "code",
   "execution_count": 6,
   "metadata": {},
   "outputs": [],
   "source": [
    "from sklearn.base import BaseEstimator, TransformerMixin\n",
    "class ColumnSelector(BaseEstimator, TransformerMixin):\n",
    "    def __init__(self, columns):\n",
    "        self.columns = columns\n",
    "\n",
    "    def fit(self, X, y=None):\n",
    "        return self\n",
    "\n",
    "    def transform(self, X):\n",
    "        assert isinstance(X, pd.DataFrame)\n",
    "\n",
    "        try:\n",
    "            return X[self.columns]\n",
    "        except KeyError:\n",
    "            cols_error = list(set(self.columns) - set(X.columns))\n",
    "            raise KeyError(\"The DataFrame does not include the columns: %s\" % cols_error)"
   ]
  },
  {
   "cell_type": "code",
   "execution_count": 7,
   "metadata": {},
   "outputs": [],
   "source": [
    "# Let's instantiate our two selectors\n",
    "label_encode_selector = ColumnSelector(data_columns)\n",
    "one_hot_selector = ColumnSelector(one_hot_columns)"
   ]
  },
  {
   "cell_type": "code",
   "execution_count": 8,
   "metadata": {},
   "outputs": [
    {
     "name": "stdout",
     "output_type": "stream",
     "text": [
      "Index(['bin_0', 'bin_1', 'bin_2', 'bin_3', 'bin_4', 'nom_0', 'nom_1', 'nom_2',\n",
      "       'nom_3', 'nom_4', 'nom_5', 'nom_6', 'nom_7', 'nom_8', 'nom_9',\n",
      "       'nom_5_freq', 'nom_6_freq', 'nom_7_freq', 'nom_8_freq', 'nom_9_freq',\n",
      "       'ord_0', 'ord_1', 'ord_2', 'ord_3', 'ord_4', 'ord_5', 'day_sin',\n",
      "       'day_cos', 'month_sin', 'month_cos'],\n",
      "      dtype='object')\n",
      "Index(['bin_0', 'bin_1', 'bin_2', 'bin_3', 'bin_4', 'nom_0_Green', 'nom_0_Red',\n",
      "       'nom_1_Polygon', 'nom_1_Square', 'nom_1_Star',\n",
      "       ...\n",
      "       'ord_5_186', 'ord_5_187', 'ord_5_188', 'ord_5_189', 'ord_5_190',\n",
      "       'ord_5_191', 'day_sin', 'day_cos', 'month_sin', 'month_cos'],\n",
      "      dtype='object', length=275)\n"
     ]
    }
   ],
   "source": [
    "print(label_encode_selector.fit_transform(X_train).columns)\n",
    "print(one_hot_selector.fit_transform(X_train).columns)"
   ]
  },
  {
   "cell_type": "markdown",
   "metadata": {},
   "source": [
    "## Premilinary Model Selection\n",
    "We use these model without tuning to see their basic performance on the dataset, and use this to decide whether it is even worth tuning."
   ]
  },
  {
   "cell_type": "code",
   "execution_count": 9,
   "metadata": {},
   "outputs": [],
   "source": [
    "from sklearn.linear_model import LogisticRegressionCV\n",
    "\n",
    "# SVC does not scale up; but we try them anyway\n",
    "from sklearn.svm import SVC\n",
    "\n",
    "from sklearn.ensemble import RandomForestClassifier\n",
    "\n",
    "# Likely wont work; this is not Gaussian or even approx Gaussian\n",
    "from sklearn.naive_bayes import GaussianNB\n",
    "\n",
    "from sklearn.linear_model import SGDClassifier\n",
    "from sklearn.tree import DecisionTreeClassifier"
   ]
  },
  {
   "cell_type": "code",
   "execution_count": 74,
   "metadata": {},
   "outputs": [],
   "source": [
    "svc = pipeline.Pipeline([\n",
    "        (\"one_hot_selector\", one_hot_selector),\n",
    "        (\"min_max_scaler\", preprocessing.MinMaxScaler()),\n",
    "        (\"clf\", SVC(gamma='auto',probability=True))\n",
    "        ])\n",
    "\n",
    "logistic = pipeline.Pipeline([    \n",
    "        (\"one_hot_selector\", one_hot_selector),\n",
    "        (\"min_max_scaler\", preprocessing.MinMaxScaler()),\n",
    "        (\"clf\", LogisticRegressionCV(cv=5,solver='lbfgs',max_iter=10000,n_jobs=-1))\n",
    "        ])\n",
    "\n",
    "rf = pipeline.Pipeline([\n",
    "        (\"label_encode_selector\", label_encode_selector),\n",
    "        (\"clf\", RandomForestClassifier(n_jobs=-1))\n",
    "        ])\n",
    "\n",
    "nb = pipeline.Pipeline([\n",
    "        (\"one_hot_selector\", one_hot_selector),\n",
    "        (\"min_max_scaler\", preprocessing.MinMaxScaler()),\n",
    "        (\"clf\", GaussianNB())\n",
    "        ])\n",
    "\n",
    "sgd = pipeline.Pipeline([\n",
    "        (\"one_hot_selector\", one_hot_selector),\n",
    "        (\"min_max_scaler\", preprocessing.MinMaxScaler()),\n",
    "    # We use log so that it does not predict 0/1 only\n",
    "        (\"clf\", SGDClassifier(loss=\"log\",n_jobs=-1))\n",
    "        ])\n",
    "\n",
    "decision_tree = pipeline.Pipeline([\n",
    "        (\"label_encode_selector\", label_encode_selector),\n",
    "        (\"clf\", DecisionTreeClassifier())\n",
    "        ])"
   ]
  },
  {
   "cell_type": "code",
   "execution_count": 23,
   "metadata": {},
   "outputs": [],
   "source": [
    "import time\n",
    "\n",
    "# This function evaluates a model use a subset of training data,\n",
    "# and a validation set. Also time the training and prediction.\n",
    "def get_score(model, limit_train_size=None, limit_val_size=None):\n",
    "    if limit_train_size == None:\n",
    "        X_t = X_train\n",
    "        y_t = y_train\n",
    "    else:\n",
    "        X_t = X_train[:limit_train_size]\n",
    "        y_t = y_train[:limit_train_size]\n",
    "        \n",
    "    if limit_train_size == None:\n",
    "        X_t = X_val\n",
    "        y_t = y_val\n",
    "    else:\n",
    "        X_t = X_val[:limit_val_size]\n",
    "        y_t = y_val[:limit_val_size]\n",
    "    \n",
    "    t0 = time.time()\n",
    "    model.fit(X_t, y_t)\n",
    "    \n",
    "    \n",
    "    y_val_pred = model.predict_proba(X_val)[:, 1]\n",
    "    val_score = metrics.roc_auc_score(y_val, y_val_pred)\n",
    "\n",
    "    y_train_pred = model.predict_proba(X_train)[:, 1]\n",
    "    train_score = metrics.roc_auc_score(y_train, y_train_pred)\n",
    "    \n",
    "    t1 = time.time()\n",
    "    \n",
    "    dt = t1 - t0\n",
    "    \n",
    "    return (train_score, val_score, dt)"
   ]
  },
  {
   "cell_type": "code",
   "execution_count": 25,
   "metadata": {},
   "outputs": [
    {
     "name": "stdout",
     "output_type": "stream",
     "text": [
      "Evaluating svc.\n",
      "Evaluating logistic.\n",
      "Evaluating rf.\n",
      "Evaluating nb.\n",
      "Evaluating sgd.\n",
      "Evaluating decision_tree.\n"
     ]
    },
    {
     "data": {
      "text/html": [
       "<div>\n",
       "<style scoped>\n",
       "    .dataframe tbody tr th:only-of-type {\n",
       "        vertical-align: middle;\n",
       "    }\n",
       "\n",
       "    .dataframe tbody tr th {\n",
       "        vertical-align: top;\n",
       "    }\n",
       "\n",
       "    .dataframe thead th {\n",
       "        text-align: right;\n",
       "    }\n",
       "</style>\n",
       "<table border=\"1\" class=\"dataframe\">\n",
       "  <thead>\n",
       "    <tr style=\"text-align: right;\">\n",
       "      <th></th>\n",
       "      <th>clf</th>\n",
       "      <th>Train AUC</th>\n",
       "      <th>Validation AUC</th>\n",
       "      <th>Time</th>\n",
       "    </tr>\n",
       "  </thead>\n",
       "  <tbody>\n",
       "    <tr>\n",
       "      <th>0</th>\n",
       "      <td>svc</td>\n",
       "      <td>0.688313</td>\n",
       "      <td>0.691235</td>\n",
       "      <td>41.718692</td>\n",
       "    </tr>\n",
       "    <tr>\n",
       "      <th>1</th>\n",
       "      <td>logistic</td>\n",
       "      <td>0.695031</td>\n",
       "      <td>0.699301</td>\n",
       "      <td>3.010755</td>\n",
       "    </tr>\n",
       "    <tr>\n",
       "      <th>2</th>\n",
       "      <td>rf</td>\n",
       "      <td>0.690759</td>\n",
       "      <td>0.695558</td>\n",
       "      <td>0.944206</td>\n",
       "    </tr>\n",
       "    <tr>\n",
       "      <th>3</th>\n",
       "      <td>nb</td>\n",
       "      <td>0.506956</td>\n",
       "      <td>0.509400</td>\n",
       "      <td>3.497842</td>\n",
       "    </tr>\n",
       "    <tr>\n",
       "      <th>4</th>\n",
       "      <td>sgd</td>\n",
       "      <td>0.662212</td>\n",
       "      <td>0.668055</td>\n",
       "      <td>1.869616</td>\n",
       "    </tr>\n",
       "    <tr>\n",
       "      <th>5</th>\n",
       "      <td>decision_tree</td>\n",
       "      <td>0.551149</td>\n",
       "      <td>0.558607</td>\n",
       "      <td>0.192563</td>\n",
       "    </tr>\n",
       "  </tbody>\n",
       "</table>\n",
       "</div>"
      ],
      "text/plain": [
       "             clf  Train AUC  Validation AUC       Time\n",
       "0            svc   0.688313        0.691235  41.718692\n",
       "1       logistic   0.695031        0.699301   3.010755\n",
       "2             rf   0.690759        0.695558   0.944206\n",
       "3             nb   0.506956        0.509400   3.497842\n",
       "4            sgd   0.662212        0.668055   1.869616\n",
       "5  decision_tree   0.551149        0.558607   0.192563"
      ]
     },
     "execution_count": 25,
     "metadata": {},
     "output_type": "execute_result"
    }
   ],
   "source": [
    "clf_name = [\"svc\", \"logistic\", \"rf\",\n",
    "            \"nb\", \"sgd\", \"decision_tree\"]\n",
    "clfs = [svc, logistic, rf, nb, sgd, decision_tree]\n",
    "\n",
    "train_auc = []\n",
    "val_auc = []\n",
    "time_elapsed = []\n",
    "\n",
    "for i, clf in enumerate(clfs):\n",
    "    print(\"Evaluating %s.\" % clf_name[i])\n",
    "    train, val, t = get_score(clf,\n",
    "        limit_train_size=1000, limit_val_size=1000)\n",
    "    train_auc.append(train)\n",
    "    val_auc.append(val)\n",
    "    time_elapsed.append(t)\n",
    "\n",
    "result = pd.DataFrame(\n",
    "    {\n",
    "        \"clf\": clf_name,\n",
    "        \"Train AUC\": train_auc,\n",
    "        \"Validation AUC\": val_auc,\n",
    "        \"Time\": time_elapsed\n",
    "    }\n",
    ")\n",
    "result"
   ]
  },
  {
   "cell_type": "markdown",
   "metadata": {},
   "source": [
    "Conclusion: Although SVC result looks primising, it indeed does not scale well; we shall remove this. Also we remove sgd, Naive Bayes and Decision Tree in favor of Logistic Regression, Random Forest and probably XGB."
   ]
  },
  {
   "cell_type": "markdown",
   "metadata": {},
   "source": [
    "## XGBoost Training"
   ]
  },
  {
   "cell_type": "code",
   "execution_count": 28,
   "metadata": {},
   "outputs": [],
   "source": [
    "# We do not use GridSearchCV:\n",
    "# See https://github.com/dmlc/xgboost/issues/2819\n",
    "# Instead we implement our own grid search.\n",
    "\n",
    "from collections.abc import Iterable\n",
    "import itertools\n",
    "\n",
    "# Takes a parameter grid similar to the format in\n",
    "# sklearn GridSearchCV and returns a list of names every time.\n",
    "def get_grid_iter(param_grid):\n",
    "    names = []\n",
    "    values = []\n",
    "    \n",
    "    for param_name, param_values in param_grid.items():\n",
    "        names.append(param_name)\n",
    "        \n",
    "        if isinstance(param_values, list):\n",
    "            values.append(list(param_values))\n",
    "        else:\n",
    "            values.append(list([param_values]))\n",
    "    \n",
    "    it = (dict(zip(names, param)) for param in itertools.product(*values))\n",
    "    item_cnt = np.prod(np.array([len(v) for v in values]))\n",
    "    return it, item_cnt\n",
    "\n",
    "# Similar to GridSearchCV\n",
    "def hyper_opt(model_base, param_grid, metric, X_train, y_train, X_val, y_val, bin_prob, verbose=False):\n",
    "    best_param = None\n",
    "    best_param_id = -1\n",
    "    best_score = -np.inf\n",
    "    \n",
    "    it, item_cnt = get_grid_iter(param_grid)\n",
    "    \n",
    "    step = 0\n",
    "    \n",
    "    for param in it:\n",
    "        \n",
    "        model = model_base(**param)\n",
    "        model.fit(X_train, y_train)\n",
    "        \n",
    "        if bin_prob:\n",
    "            y_train_pred = model.predict_proba(X_train)[:, 1]\n",
    "            y_val_pred = model.predict_proba(X_val)[:, 1]\n",
    "        else:\n",
    "            y_train_pred = model.predict(X_train)\n",
    "            y_val_pred = model.predict(X_val)\n",
    "        \n",
    "        train_score = metric(y_train, y_train_pred)\n",
    "        val_score = metric(y_val, y_val_pred)\n",
    "        \n",
    "        if val_score > best_score:\n",
    "            best_score = val_score\n",
    "            best_param = param\n",
    "            best_param_id = step\n",
    "        \n",
    "        step += 1\n",
    "        if verbose:\n",
    "            print(\"[%d/%d] train:%f test:%f best:%f id:%d\" %\n",
    "                (step, item_cnt, train_score, val_score, best_score, best_param_id))\n",
    "            \n",
    "    return best_score, best_param, best_param_id"
   ]
  },
  {
   "cell_type": "code",
   "execution_count": 32,
   "metadata": {},
   "outputs": [],
   "source": [
    "from xgboost import XGBClassifier"
   ]
  },
  {
   "cell_type": "code",
   "execution_count": 48,
   "metadata": {},
   "outputs": [],
   "source": [
    "# We used this grid for searching; for demonstration purposes\n",
    "# we only use a very coarse grid here. For the finer grid, see\n",
    "# appendix.\n",
    "\n",
    "#xgb_param_grid = {\n",
    "#    \"n_estimators\": [500, 1000, 1500, 2000, 3000],\n",
    "#    'max_depth':[1, 2, 3, 4, 5],\n",
    "#    'objective':'binary:logistic',\n",
    "#    'subsample':[0.6, 0.8, 1], \n",
    "#    'colsample_bytree':[0.6, 0.8, 1],\n",
    "#    'learning_rate':[0.01, 0.1],\n",
    "#    'tree_method':'gpu_hist'\n",
    "#}\n",
    "\n",
    "xgb_param_grid = {\n",
    "    \"n_estimators\": [500, 1000, 1500],\n",
    "    'max_depth':[1, 2],\n",
    "    'objective':'binary:logistic',\n",
    "    'subsample':[1], \n",
    "    'colsample_bytree':[1],\n",
    "    'learning_rate':[0.01, 0.1],\n",
    "    'tree_method':'gpu_hist'\n",
    "}"
   ]
  },
  {
   "cell_type": "code",
   "execution_count": 49,
   "metadata": {},
   "outputs": [
    {
     "name": "stdout",
     "output_type": "stream",
     "text": [
      "[1/12] train:0.723428 test:0.725072 best:0.725072 id:0\n",
      "[2/12] train:0.765054 test:0.765870 best:0.765870 id:1\n",
      "[3/12] train:0.745858 test:0.738058 best:0.765870 id:1\n",
      "[4/12] train:0.797647 test:0.762119 best:0.765870 id:1\n",
      "[5/12] train:0.739944 test:0.742845 best:0.765870 id:1\n",
      "[6/12] train:0.770691 test:0.767322 best:0.767322 id:5\n",
      "[7/12] train:0.764020 test:0.755522 best:0.767322 id:5\n",
      "[8/12] train:0.820151 test:0.761066 best:0.767322 id:5\n",
      "[9/12] train:0.749426 test:0.752734 best:0.767322 id:5\n",
      "[10/12] train:0.773744 test:0.767915 best:0.767915 id:9\n",
      "[11/12] train:0.771627 test:0.760466 best:0.767915 id:9\n",
      "[12/12] train:0.835652 test:0.759309 best:0.767915 id:9\n",
      "{'n_estimators': 1500, 'max_depth': 1, 'objective': 'binary:logistic', 'subsample': 1, 'colsample_bytree': 1, 'learning_rate': 0.1, 'tree_method': 'gpu_hist'}\n"
     ]
    }
   ],
   "source": [
    "%%time\n",
    "\n",
    "N_t = 20000\n",
    "N_v = 10000\n",
    "X_t = label_encode_selector.fit_transform(X_train[:N_t])\n",
    "X_v = label_encode_selector.fit_transform(X_val[:N_v])\n",
    "y_t = y_train[:N_t]\n",
    "y_v = y_val[:N_v]\n",
    "\n",
    "score, param, param_id = hyper_opt(XGBClassifier, xgb_param_grid, metrics.roc_auc_score,\n",
    "          X_t, y_t, X_v, y_v,\n",
    "          bin_prob=True, verbose=True)\n",
    "print(param)"
   ]
  },
  {
   "cell_type": "code",
   "execution_count": 52,
   "metadata": {},
   "outputs": [],
   "source": [
    "# Let's use the best parameter found in the larger and\n",
    "# finer grid and fit the full data.\n",
    "best_param = {\n",
    "    'n_estimators': 3000,\n",
    "    'max_depth': 2,\n",
    "    'objective': 'binary:logistic',\n",
    "    'subsample': 1,\n",
    "    'colsample_bytree': 0.6,\n",
    "    'learning_rate': 0.1,\n",
    "    'tree_method': 'gpu_hist'\n",
    "}"
   ]
  },
  {
   "cell_type": "code",
   "execution_count": 63,
   "metadata": {},
   "outputs": [],
   "source": [
    "%%time\n",
    "xgb = pipeline.Pipeline(\n",
    "    [\n",
    "        (\"label_encode_selector\", label_encode_selector),\n",
    "        (\"xgb\", XGBClassifier(**best_param))\n",
    "    ] \n",
    ")\n",
    "xgb.fit(X_data, y_data);"
   ]
  },
  {
   "cell_type": "code",
   "execution_count": 109,
   "metadata": {},
   "outputs": [
    {
     "data": {
      "text/plain": [
       "<BarContainer object of 30 artists>"
      ]
     },
     "execution_count": 109,
     "metadata": {},
     "output_type": "execute_result"
    },
    {
     "data": {
      "image/png": "[encoded data removed]",
      "text/plain": [
       "<Figure size 720x432 with 1 Axes>"
      ]
     },
     "metadata": {
      "needs_background": "light"
     },
     "output_type": "display_data"
    }
   ],
   "source": [
    "import matplotlib.pyplot as plt\n",
    "\n",
    "# Let's see the feature importances for checking\n",
    "imp = pd.Series(\n",
    "    data=xgb[\"xgb\"].feature_importances_,\n",
    "    index=data_columns\n",
    ").sort_values(ascending=True)\n",
    "\n",
    "plt.figure(figsize=(10, 6))\n",
    "plt.barh(imp.index, imp)"
   ]
  },
  {
   "cell_type": "markdown",
   "metadata": {},
   "source": [
    "Conclusion: it seems that high cardinality nominal variables are not so important."
   ]
  },
  {
   "cell_type": "markdown",
   "metadata": {},
   "source": [
    "## Now fit the other two models as well"
   ]
  },
  {
   "cell_type": "code",
   "execution_count": 75,
   "metadata": {},
   "outputs": [
    {
     "data": {
      "text/plain": [
       "40"
      ]
     },
     "execution_count": 75,
     "metadata": {},
     "output_type": "execute_result"
    }
   ],
   "source": [
    "import gc\n",
    "gc.collect()"
   ]
  },
  {
   "cell_type": "code",
   "execution_count": 120,
   "metadata": {},
   "outputs": [
    {
     "name": "stdout",
     "output_type": "stream",
     "text": [
      "Wall time: 29.4 s\n"
     ]
    },
    {
     "data": {
      "text/plain": [
       "0.7620609770095521"
      ]
     },
     "execution_count": 120,
     "metadata": {},
     "output_type": "execute_result"
    }
   ],
   "source": [
    "%%time\n",
    "# To avoid OOM, we limit the training size.\n",
    "N_logistic = 50000\n",
    "choice = np.random.choice(len(X_data), size=N_logistic)\n",
    "\n",
    "logistic.fit(X_data.loc[choice, :], y_data[choice]);\n",
    "\n",
    "y_data_hat = logistic.predict_proba(X_data)[:, 1]\n",
    "\n",
    "# Our final training score for logistic regression\n",
    "metrics.roc_auc_score(y_data, y_data_hat)"
   ]
  },
  {
   "cell_type": "code",
   "execution_count": 121,
   "metadata": {},
   "outputs": [
    {
     "name": "stdout",
     "output_type": "stream",
     "text": [
      "Wall time: 2min 39s\n"
     ]
    },
    {
     "data": {
      "text/plain": [
       "0.724727764774564"
      ]
     },
     "execution_count": 121,
     "metadata": {},
     "output_type": "execute_result"
    }
   ],
   "source": [
    "%%time\n",
    "\n",
    "# For random forest, we use GridSearchCV to tune the parameters.\n",
    "N_rf = 50000\n",
    "choice = np.random.choice(len(X_data), size=N_rf)\n",
    "\n",
    "rf_grid = {\n",
    "    \"clf__n_estimators\": [200, 500, 1000, 2000],\n",
    "    \"clf__max_depth\": [1, 2],\n",
    "    \"clf__criterion\": [\"gini\", \"entropy\"]\n",
    "}\n",
    "rf_cv = model_selection.GridSearchCV(rf, rf_grid,\n",
    "        cv=3, scoring=\"roc_auc\")\n",
    "rf_cv.fit(X_data[:N_rf], y_data[:N_rf])\n",
    "\n",
    "y_data_hat = rf_cv.predict_proba(X_data)[:, 1]\n",
    "\n",
    "# Our final training score for RF\n",
    "metrics.roc_auc_score(y_data, y_data_hat)"
   ]
  },
  {
   "cell_type": "code",
   "execution_count": 122,
   "metadata": {},
   "outputs": [],
   "source": [
    "logistic_proba = logistic.predict_proba(X_test)[:, 1]\n",
    "xgb_proba = xgb.predict_proba(X_test)[:,1]\n",
    "rf_proba = rf_cv.predict_proba(X_test)[:, 1]"
   ]
  },
  {
   "cell_type": "code",
   "execution_count": 123,
   "metadata": {},
   "outputs": [],
   "source": [
    "# Weighted voting\n",
    "target = 0.7 * xgb_proba + 0.2 * logistic_proba + 0.1 * rf_proba"
   ]
  },
  {
   "cell_type": "code",
   "execution_count": 124,
   "metadata": {},
   "outputs": [],
   "source": [
    "submission = pd.DataFrame(\n",
    "    {\n",
    "        \"id\": test_id,\n",
    "        \"target\": target\n",
    "    }\n",
    ")"
   ]
  },
  {
   "cell_type": "code",
   "execution_count": 125,
   "metadata": {},
   "outputs": [],
   "source": [
    "submission.to_csv(\"submission.csv\", index=False)"
   ]
  },
  {
   "cell_type": "markdown",
   "metadata": {},
   "source": [
    "Conclusion: this achieves 0.78598 AUC."
   ]
  },
  {
   "cell_type": "code",
   "execution_count": null,
   "metadata": {},
   "outputs": [],
   "source": []
  }
 ],
 "metadata": {
  "kernelspec": {
   "display_name": "Python 3",
   "language": "python",
   "name": "python3"
  },
  "language_info": {
   "codemirror_mode": {
    "name": "ipython",
    "version": 3
   },
   "file_extension": ".py",
   "mimetype": "text/x-python",
   "name": "python",
   "nbconvert_exporter": "python",
   "pygments_lexer": "ipython3",
   "version": "3.7.5"
  }
 },
 "nbformat": 4,
 "nbformat_minor": 2
}
