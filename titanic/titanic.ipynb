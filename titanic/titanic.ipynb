{
 "cells": [
  {
   "cell_type": "markdown",
   "metadata": {},
   "source": [
    "# ISE 529 HW 5\n",
    "## Session: W\n",
    "## Group Members: Naichang LU, Feiyang GU, Qikai GAO, Yihang ZHANG"
   ]
  },
  {
   "cell_type": "markdown",
   "metadata": {},
   "source": [
    "## Pre-processing"
   ]
  },
  {
   "cell_type": "code",
   "execution_count": 1,
   "metadata": {
    "_cell_guid": "5767a33c-8f18-4034-e52d-bf7a8f7d8ab8",
    "_uuid": "847a9b3972a6be2d2f3346ff01fea976d92ecdb6"
   },
   "outputs": [],
   "source": [
    "# data analysis and wrangling\n",
    "import pandas as pd\n",
    "import numpy as np\n",
    "import random as rnd\n",
    "\n",
    "# visualization\n",
    "import matplotlib.pyplot as plt\n",
    "%matplotlib inline\n",
    "\n",
    "# machine learning\n",
    "from sklearn.linear_model import LogisticRegression\n",
    "from sklearn.svm import SVC, LinearSVC\n",
    "from sklearn.ensemble import RandomForestClassifier\n",
    "from sklearn.neighbors import KNeighborsClassifier\n",
    "from sklearn.naive_bayes import GaussianNB\n",
    "from sklearn.linear_model import Perceptron\n",
    "from sklearn.linear_model import SGDClassifier\n",
    "from sklearn.tree import DecisionTreeClassifier\n",
    "\n",
    "from sklearn import metrics, model_selection, linear_model"
   ]
  },
  {
   "cell_type": "code",
   "execution_count": 2,
   "metadata": {
    "_cell_guid": "5767a33c-8f18-4034-e52d-bf7a8f7d8ab8",
    "_uuid": "847a9b3972a6be2d2f3346ff01fea976d92ecdb6"
   },
   "outputs": [],
   "source": [
    "# set random seed to 1 so that this produces result that is repeatable.\n",
    "np.random.seed(1)"
   ]
  },
  {
   "cell_type": "code",
   "execution_count": 3,
   "metadata": {
    "_cell_guid": "5767a33c-8f18-4034-e52d-bf7a8f7d8ab8",
    "_uuid": "847a9b3972a6be2d2f3346ff01fea976d92ecdb6"
   },
   "outputs": [],
   "source": [
    "# Generating data as required\n",
    "train_df = pd.read_csv('train.csv')\n",
    "test_df = pd.read_csv('test.csv')\n",
    "combine = [train_df, test_df]\n",
    "\n",
    "train_df = train_df.drop(['Ticket', 'Cabin'], axis=1)\n",
    "test_df = test_df.drop(['Ticket', 'Cabin'], axis=1)\n",
    "combine = [train_df, test_df]\n",
    "\n",
    "for dataset in combine:\n",
    "    dataset['Title'] = dataset.Name.str.extract(r' ([A-Za-z]+)\\.', expand=False)\n",
    "\n",
    "for dataset in combine:\n",
    "    dataset['Title'] = dataset['Title'].replace(['Lady', 'Countess','Capt', 'Col',\\\n",
    " \t'Don', 'Dr', 'Major', 'Rev', 'Sir', 'Jonkheer', 'Dona'], 'Rare')\n",
    "\n",
    "    dataset['Title'] = dataset['Title'].replace('Mlle', 'Miss')\n",
    "    dataset['Title'] = dataset['Title'].replace('Ms', 'Miss')\n",
    "    dataset['Title'] = dataset['Title'].replace('Mme', 'Mrs')\n",
    "\n",
    "title_mapping = {\"Mr\": 1, \"Miss\": 2, \"Mrs\": 3, \"Master\": 4, \"Rare\": 5}\n",
    "for dataset in combine:\n",
    "    dataset['Title'] = dataset['Title'].map(title_mapping)\n",
    "    dataset['Title'] = dataset['Title'].fillna(0)\n",
    "\n",
    "train_df = train_df.drop(['Name', 'PassengerId'], axis=1)\n",
    "test_df = test_df.drop(['Name'], axis=1)\n",
    "combine = [train_df, test_df]\n",
    "train_df.shape, test_df.shape\n",
    "\n",
    "for dataset in combine:\n",
    "    dataset['Sex'] = dataset['Sex'].map( {'female': 1, 'male': 0} ).astype(int)\n",
    "\n",
    "guess_ages = np.zeros((2,3))\n",
    "guess_ages\n",
    "\n",
    "for dataset in combine:\n",
    "    for i in range(0, 2):\n",
    "        for j in range(0, 3):\n",
    "            guess_df = dataset[(dataset['Sex'] == i) & \\\n",
    "                                  (dataset['Pclass'] == j+1)]['Age'].dropna()\n",
    "\n",
    "            # age_mean = guess_df.mean()\n",
    "            # age_std = guess_df.std()\n",
    "            # age_guess = rnd.uniform(age_mean - age_std, age_mean + age_std)\n",
    "\n",
    "            age_guess = guess_df.median()\n",
    "\n",
    "            # Convert random age float to nearest .5 age\n",
    "            guess_ages[i,j] = int( age_guess/0.5 + 0.5 ) * 0.5\n",
    "            \n",
    "    for i in range(0, 2):\n",
    "        for j in range(0, 3):\n",
    "            dataset.loc[ (dataset.Age.isnull()) & (dataset.Sex == i) & (dataset.Pclass == j+1),\\\n",
    "                    'Age'] = guess_ages[i,j]\n",
    "\n",
    "    dataset['Age'] = dataset['Age'].astype(int)\n",
    "\n",
    "train_df['AgeBand'] = pd.cut(train_df['Age'], 5)\n",
    "train_df[['AgeBand', 'Survived']].groupby(['AgeBand'], as_index=False).mean().sort_values(by='AgeBand', ascending=True)\n",
    "\n",
    "for dataset in combine:    \n",
    "    dataset.loc[ dataset['Age'] <= 16, 'Age']                          = 0\n",
    "    dataset.loc[(dataset['Age'] > 16) & (dataset['Age'] <= 32), 'Age'] = 1\n",
    "    dataset.loc[(dataset['Age'] > 32) & (dataset['Age'] <= 48), 'Age'] = 2\n",
    "    dataset.loc[(dataset['Age'] > 48) & (dataset['Age'] <= 64), 'Age'] = 3\n",
    "    dataset.loc[ dataset['Age'] > 64, 'Age']                           = 4\n",
    "    # np.piecewise() # this author is stupid\n",
    "\n",
    "train_df = train_df.drop(['AgeBand'], axis=1)\n",
    "combine = [train_df, test_df]\n",
    "\n",
    "for dataset in combine:\n",
    "    dataset['FamilySize'] = dataset['SibSp'] + dataset['Parch'] + 1\n",
    "\n",
    "for dataset in combine:\n",
    "    dataset['IsAlone'] = 0\n",
    "    dataset.loc[dataset['FamilySize'] == 1, 'IsAlone'] = 1\n",
    "\n",
    "train_df = train_df.drop(['Parch', 'SibSp', 'FamilySize'], axis=1)\n",
    "test_df = test_df.drop(['Parch', 'SibSp', 'FamilySize'], axis=1)\n",
    "combine = [train_df, test_df]\n",
    "\n",
    "for dataset in combine:\n",
    "    dataset['Age*Class'] = dataset.Age * dataset.Pclass\n",
    "\n",
    "freq_port = train_df.Embarked.dropna().mode()[0]\n",
    "\n",
    "for dataset in combine:\n",
    "    dataset['Embarked'] = dataset['Embarked'].fillna(freq_port)\n",
    "\n",
    "for dataset in combine:\n",
    "    dataset['Embarked'] = dataset['Embarked'].map( {'S': 0, 'C': 1, 'Q': 2} ).astype(int)\n",
    "\n",
    "test_df['Fare'].fillna(test_df['Fare'].dropna().median(), inplace=True)\n",
    "\n",
    "train_df['FareBand'] = pd.qcut(train_df['Fare'], 4)\n",
    "\n",
    "for dataset in combine:\n",
    "    dataset.loc[ dataset['Fare'] <= 7.91, 'Fare'] = 0\n",
    "    dataset.loc[(dataset['Fare'] > 7.91) & (dataset['Fare'] <= 14.454), 'Fare'] = 1\n",
    "    dataset.loc[(dataset['Fare'] > 14.454) & (dataset['Fare'] <= 31), 'Fare']   = 2\n",
    "    dataset.loc[ dataset['Fare'] > 31, 'Fare'] = 3\n",
    "    dataset['Fare'] = dataset['Fare'].astype(int)\n",
    "\n",
    "train_df = train_df.drop(['FareBand'], axis=1)\n",
    "combine = [train_df, test_df]"
   ]
  },
  {
   "cell_type": "code",
   "execution_count": 4,
   "metadata": {
    "_cell_guid": "5767a33c-8f18-4034-e52d-bf7a8f7d8ab8",
    "_uuid": "847a9b3972a6be2d2f3346ff01fea976d92ecdb6"
   },
   "outputs": [
    {
     "data": {
      "text/plain": [
       "((891, 8), (891,), (418, 8))"
      ]
     },
     "execution_count": 4,
     "metadata": {},
     "output_type": "execute_result"
    }
   ],
   "source": [
    "X_train = train_df.drop(\"Survived\", axis=1)\n",
    "Y_train = train_df[\"Survived\"]\n",
    "X_test  = test_df.drop(\"PassengerId\", axis=1).copy()\n",
    "X_train.shape, Y_train.shape, X_test.shape"
   ]
  },
  {
   "cell_type": "code",
   "execution_count": 5,
   "metadata": {},
   "outputs": [],
   "source": [
    "def getScore(model, X_train, Y_train, metric=metrics.accuracy_score):\n",
    "    cv = model_selection.KFold(n_splits=5)\n",
    "    score = model_selection.cross_val_score(model,\n",
    "            X_train,Y_train,scoring=metrics.make_scorer(metric), cv=cv)\n",
    "    return score.mean()"
   ]
  },
  {
   "cell_type": "markdown",
   "metadata": {},
   "source": [
    "Here are some baseline models provided in the sample answer.\n",
    "\n",
    "We only make minor modifications to the file so that it does not throw warnings.\n",
    "\n",
    "The scores below are test accuracy on 5-fold cross validation, so it should be lower than what is originally given."
   ]
  },
  {
   "cell_type": "code",
   "execution_count": 6,
   "metadata": {},
   "outputs": [
    {
     "data": {
      "text/html": [
       "<div>\n",
       "<style scoped>\n",
       "    .dataframe tbody tr th:only-of-type {\n",
       "        vertical-align: middle;\n",
       "    }\n",
       "\n",
       "    .dataframe tbody tr th {\n",
       "        vertical-align: top;\n",
       "    }\n",
       "\n",
       "    .dataframe thead th {\n",
       "        text-align: right;\n",
       "    }\n",
       "</style>\n",
       "<table border=\"1\" class=\"dataframe\">\n",
       "  <thead>\n",
       "    <tr style=\"text-align: right;\">\n",
       "      <th></th>\n",
       "      <th>model</th>\n",
       "      <th>Accuracy rate</th>\n",
       "    </tr>\n",
       "  </thead>\n",
       "  <tbody>\n",
       "    <tr>\n",
       "      <th>0</th>\n",
       "      <td>Support Vector Machines</td>\n",
       "      <td>0.817055</td>\n",
       "    </tr>\n",
       "    <tr>\n",
       "      <th>2</th>\n",
       "      <td>Logistic Regression</td>\n",
       "      <td>0.805844</td>\n",
       "    </tr>\n",
       "    <tr>\n",
       "      <th>3</th>\n",
       "      <td>Random Forest</td>\n",
       "      <td>0.804739</td>\n",
       "    </tr>\n",
       "    <tr>\n",
       "      <th>7</th>\n",
       "      <td>Linear SVC</td>\n",
       "      <td>0.794602</td>\n",
       "    </tr>\n",
       "    <tr>\n",
       "      <th>8</th>\n",
       "      <td>Decision Tree</td>\n",
       "      <td>0.793516</td>\n",
       "    </tr>\n",
       "    <tr>\n",
       "      <th>1</th>\n",
       "      <td>KNN</td>\n",
       "      <td>0.774484</td>\n",
       "    </tr>\n",
       "    <tr>\n",
       "      <th>4</th>\n",
       "      <td>Naive Bayes</td>\n",
       "      <td>0.763292</td>\n",
       "    </tr>\n",
       "    <tr>\n",
       "      <th>6</th>\n",
       "      <td>Stochastic Gradient Descent</td>\n",
       "      <td>0.754265</td>\n",
       "    </tr>\n",
       "    <tr>\n",
       "      <th>5</th>\n",
       "      <td>Perceptron</td>\n",
       "      <td>0.750882</td>\n",
       "    </tr>\n",
       "  </tbody>\n",
       "</table>\n",
       "</div>"
      ],
      "text/plain": [
       "                         model  Accuracy rate\n",
       "0      Support Vector Machines       0.817055\n",
       "2          Logistic Regression       0.805844\n",
       "3                Random Forest       0.804739\n",
       "7                   Linear SVC       0.794602\n",
       "8                Decision Tree       0.793516\n",
       "1                          KNN       0.774484\n",
       "4                  Naive Bayes       0.763292\n",
       "6  Stochastic Gradient Descent       0.754265\n",
       "5                   Perceptron       0.750882"
      ]
     },
     "execution_count": 6,
     "metadata": {},
     "output_type": "execute_result"
    }
   ],
   "source": [
    "model_dict = {'Support Vector Machines':SVC(gamma='auto'),\n",
    "             'KNN':KNeighborsClassifier(n_neighbors = 3),\n",
    "             'Logistic Regression':LogisticRegression(solver='lbfgs'),\n",
    "             'Random Forest':RandomForestClassifier(n_estimators=100),\n",
    "             'Naive Bayes':GaussianNB(),\n",
    "             'Perceptron':Perceptron(),\n",
    "             'Stochastic Gradient Descent':SGDClassifier(),\n",
    "             'Linear SVC':LinearSVC(max_iter=10000),\n",
    "             'Decision Tree':DecisionTreeClassifier()}\n",
    "\n",
    "score_list = [getScore(model,X_train,Y_train)\n",
    "              for model_name, model in model_dict.items()]\n",
    "\n",
    "score_pd = pd.DataFrame({'model':list(model_dict.keys()),'Accuracy rate':score_list}) \n",
    "score_pd.sort_values(by='Accuracy rate', ascending=False)"
   ]
  },
  {
   "cell_type": "markdown",
   "metadata": {},
   "source": [
    "## Question 2"
   ]
  },
  {
   "cell_type": "code",
   "execution_count": 7,
   "metadata": {},
   "outputs": [],
   "source": [
    "from xgboost import XGBClassifier\n",
    "from scipy import stats"
   ]
  },
  {
   "cell_type": "code",
   "execution_count": 8,
   "metadata": {},
   "outputs": [],
   "source": [
    "X_tr,X_te,Y_tr,Y_te = model_selection.train_test_split(X_train,Y_train,test_size=0.3)"
   ]
  },
  {
   "cell_type": "code",
   "execution_count": 9,
   "metadata": {},
   "outputs": [],
   "source": [
    "# To simplify workflow, we write the following function to get cross-validation score\n",
    "# for specified set of hyperparameter\n",
    "def tune_xgb_score(**param):\n",
    "    xgb = XGBClassifier(n_estimators=param[\"n_estimators\"],\n",
    "                        max_depth=param[\"max_depth\"], learning_rate=param[\"max_depth\"])\n",
    "    return getScore(xgb, X_tr, Y_tr)"
   ]
  },
  {
   "cell_type": "code",
   "execution_count": 10,
   "metadata": {},
   "outputs": [
    {
     "data": {
      "text/plain": [
       "0.6593806451612904"
      ]
     },
     "execution_count": 10,
     "metadata": {},
     "output_type": "execute_result"
    }
   ],
   "source": [
    "# Our baseline model\n",
    "tune_xgb_score(n_estimators=100, max_depth=4, learning_rate=0.01)"
   ]
  },
  {
   "cell_type": "code",
   "execution_count": 11,
   "metadata": {},
   "outputs": [],
   "source": [
    "# Smooth a curve by exponential decaying\n",
    "def exp_smooth(a, smooth=0.5):\n",
    "    L = []\n",
    "    cur = a[0]\n",
    "    for x in a:\n",
    "        cur = (1-smooth) * x + smooth * cur\n",
    "        L.append(cur)\n",
    "    return np.array(L)"
   ]
  },
  {
   "cell_type": "code",
   "execution_count": 12,
   "metadata": {},
   "outputs": [
    {
     "data": {
      "image/png": "[encoded data removed]",
      "text/plain": [
       "<Figure size 432x288 with 1 Axes>"
      ]
     },
     "metadata": {
      "needs_background": "light"
     },
     "output_type": "display_data"
    }
   ],
   "source": [
    "# Now tune the hyperparameters\n",
    "n = 300\n",
    "d = 4\n",
    "lr = 0.01\n",
    "# Acceptable range for each parameter\n",
    "n_estimators_range = np.arange(50, 1000, 50)\n",
    "#max_depth_range = np.arange(1, 10, 1)\n",
    "#learning_rate_range = np.logspace(-5, -0.5, 20)\n",
    "\n",
    "scores = []\n",
    "for x in n_estimators_range:\n",
    "    scores.append(tune_xgb_score(n_estimators=x, max_depth=d, learning_rate=lr))\n",
    "plt.plot(n_estimators_range, exp_smooth(np.array(scores)))\n",
    "#plt.plot(n_estimators_range, np.array(scores))\n",
    "\n",
    "plt.xlabel(\"n_estimator\")\n",
    "plt.ylabel(\"accuracy\")\n",
    "plt.title(\"XGB CV Accuracy\");"
   ]
  },
  {
   "cell_type": "code",
   "execution_count": 13,
   "metadata": {},
   "outputs": [],
   "source": [
    "# Therefore we pick the following value for n_estimators\n",
    "n = 450"
   ]
  },
  {
   "cell_type": "code",
   "execution_count": 14,
   "metadata": {},
   "outputs": [
    {
     "data": {
      "text/plain": [
       "0.8134328358208955"
      ]
     },
     "execution_count": 14,
     "metadata": {},
     "output_type": "execute_result"
    }
   ],
   "source": [
    "xgb = XGBClassifier(n_estimators=n, max_depth=d, learning_rate=lr)\n",
    "xgb.fit(X_tr, Y_tr)\n",
    "pred = xgb.predict(X_te)\n",
    "xgb.score(X_te,Y_te)"
   ]
  },
  {
   "cell_type": "code",
   "execution_count": 15,
   "metadata": {},
   "outputs": [
    {
     "name": "stdout",
     "output_type": "stream",
     "text": [
      "0.8781249999999998\n"
     ]
    }
   ],
   "source": [
    "pred_proba = xgb.predict_proba(X_te)\n",
    "auc = metrics.roc_auc_score(Y_te,pred_proba[:,1])\n",
    "print(auc)"
   ]
  },
  {
   "cell_type": "code",
   "execution_count": 16,
   "metadata": {},
   "outputs": [],
   "source": [
    "fpr,tpr,thresholds = metrics.roc_curve(Y_te,pred_proba[:,1])"
   ]
  },
  {
   "cell_type": "code",
   "execution_count": 17,
   "metadata": {},
   "outputs": [
    {
     "data": {
      "text/plain": [
       "[0, 1, 0, 1]"
      ]
     },
     "execution_count": 17,
     "metadata": {},
     "output_type": "execute_result"
    },
    {
     "data": {
      "image/png": "[encoded data removed]",
      "text/plain": [
       "<Figure size 432x288 with 1 Axes>"
      ]
     },
     "metadata": {
      "needs_background": "light"
     },
     "output_type": "display_data"
    }
   ],
   "source": [
    "plt.plot(fpr,tpr)\n",
    "plt.plot([0,1],[0,1],'k--')\n",
    "plt.axis([0,1,0,1])"
   ]
  },
  {
   "cell_type": "markdown",
   "metadata": {},
   "source": [
    "### Conclusion: Accuracy = 0.813 AUC = 0.878\n"
   ]
  },
  {
   "cell_type": "markdown",
   "metadata": {},
   "source": [
    "## Question 3"
   ]
  },
  {
   "cell_type": "code",
   "execution_count": 18,
   "metadata": {},
   "outputs": [],
   "source": [
    "import sklearn.base\n",
    "class my_ensemble_model(sklearn.base.BaseEstimator):\n",
    "\n",
    "    def fit(self, X_train, Y_train, hold=False):\n",
    "        self.models = list(model_dict.values())\n",
    "        if not hold:\n",
    "            for model in self.models:\n",
    "                model.fit(X_train, Y_train)\n",
    "        return self\n",
    "            \n",
    "    def predict(self, X_test):\n",
    "        pred_list = np.vstack([model.predict(X_test) for model in self.models])\n",
    "        mod = np.squeeze((pred_list.mean(axis=0) > 0.5).astype(int))\n",
    "\n",
    "        return mod"
   ]
  },
  {
   "cell_type": "code",
   "execution_count": 19,
   "metadata": {},
   "outputs": [
    {
     "data": {
      "text/plain": [
       "0.8103257799259307"
      ]
     },
     "execution_count": 19,
     "metadata": {},
     "output_type": "execute_result"
    }
   ],
   "source": [
    "getScore(my_ensemble_model(), X_train, Y_train)"
   ]
  },
  {
   "cell_type": "markdown",
   "metadata": {},
   "source": [
    "### The accuracy rate of the ensemble_model is 0.810."
   ]
  },
  {
   "cell_type": "markdown",
   "metadata": {},
   "source": [
    "## Question 4"
   ]
  },
  {
   "cell_type": "code",
   "execution_count": 20,
   "metadata": {},
   "outputs": [],
   "source": [
    "class zero_model(sklearn.base.BaseEstimator):\n",
    "\n",
    "    def fit(self, X_train, Y_train):\n",
    "        return self\n",
    "            \n",
    "    def predict(self, X_test):\n",
    "        x_len = X_test.shape[0]\n",
    "        return np.zeros(x_len)"
   ]
  },
  {
   "cell_type": "code",
   "execution_count": 21,
   "metadata": {},
   "outputs": [
    {
     "data": {
      "text/plain": [
       "0.8069487163392128"
      ]
     },
     "execution_count": 21,
     "metadata": {},
     "output_type": "execute_result"
    }
   ],
   "source": [
    "del model_dict['Stochastic Gradient Descent']\n",
    "\n",
    "model_dict['zero']=zero_model()\n",
    "getScore(my_ensemble_model(), X_train, Y_train)"
   ]
  },
  {
   "cell_type": "markdown",
   "metadata": {},
   "source": [
    "### The accuracy rate of the new ensemble_model is 0.806."
   ]
  },
  {
   "cell_type": "markdown",
   "metadata": {},
   "source": [
    "## Question 5"
   ]
  },
  {
   "cell_type": "code",
   "execution_count": 22,
   "metadata": {},
   "outputs": [],
   "source": [
    "# Let's clear the models and fit new ones with\n",
    "# hyperparamter selection.\n",
    "for key in list(model_dict.keys()):\n",
    "    del model_dict[key]"
   ]
  },
  {
   "cell_type": "code",
   "execution_count": 23,
   "metadata": {},
   "outputs": [
    {
     "data": {
      "text/html": [
       "<div>\n",
       "<style scoped>\n",
       "    .dataframe tbody tr th:only-of-type {\n",
       "        vertical-align: middle;\n",
       "    }\n",
       "\n",
       "    .dataframe tbody tr th {\n",
       "        vertical-align: top;\n",
       "    }\n",
       "\n",
       "    .dataframe thead th {\n",
       "        text-align: right;\n",
       "    }\n",
       "</style>\n",
       "<table border=\"1\" class=\"dataframe\">\n",
       "  <thead>\n",
       "    <tr style=\"text-align: right;\">\n",
       "      <th></th>\n",
       "      <th>Pclass</th>\n",
       "      <th>Sex</th>\n",
       "      <th>Age</th>\n",
       "      <th>Fare</th>\n",
       "      <th>Embarked</th>\n",
       "      <th>Title</th>\n",
       "      <th>IsAlone</th>\n",
       "      <th>Age*Class</th>\n",
       "    </tr>\n",
       "  </thead>\n",
       "  <tbody>\n",
       "    <tr>\n",
       "      <th>0</th>\n",
       "      <td>0.826913</td>\n",
       "      <td>-0.737281</td>\n",
       "      <td>-0.392778</td>\n",
       "      <td>-1.346021</td>\n",
       "      <td>-0.568518</td>\n",
       "      <td>-0.707153</td>\n",
       "      <td>-1.230954</td>\n",
       "      <td>0.133785</td>\n",
       "    </tr>\n",
       "    <tr>\n",
       "      <th>1</th>\n",
       "      <td>-1.565228</td>\n",
       "      <td>1.354813</td>\n",
       "      <td>0.826613</td>\n",
       "      <td>1.336987</td>\n",
       "      <td>1.004617</td>\n",
       "      <td>1.234522</td>\n",
       "      <td>-1.230954</td>\n",
       "      <td>-0.436562</td>\n",
       "    </tr>\n",
       "    <tr>\n",
       "      <th>2</th>\n",
       "      <td>0.826913</td>\n",
       "      <td>1.354813</td>\n",
       "      <td>-0.392778</td>\n",
       "      <td>-0.451685</td>\n",
       "      <td>-0.568518</td>\n",
       "      <td>0.263684</td>\n",
       "      <td>0.811467</td>\n",
       "      <td>0.133785</td>\n",
       "    </tr>\n",
       "    <tr>\n",
       "      <th>3</th>\n",
       "      <td>-1.565228</td>\n",
       "      <td>1.354813</td>\n",
       "      <td>0.826613</td>\n",
       "      <td>1.336987</td>\n",
       "      <td>-0.568518</td>\n",
       "      <td>1.234522</td>\n",
       "      <td>-1.230954</td>\n",
       "      <td>-0.436562</td>\n",
       "    </tr>\n",
       "    <tr>\n",
       "      <th>4</th>\n",
       "      <td>0.826913</td>\n",
       "      <td>-0.737281</td>\n",
       "      <td>0.826613</td>\n",
       "      <td>-0.451685</td>\n",
       "      <td>-0.568518</td>\n",
       "      <td>-0.707153</td>\n",
       "      <td>0.811467</td>\n",
       "      <td>1.844825</td>\n",
       "    </tr>\n",
       "  </tbody>\n",
       "</table>\n",
       "</div>"
      ],
      "text/plain": [
       "     Pclass       Sex       Age      Fare  Embarked     Title   IsAlone  \\\n",
       "0  0.826913 -0.737281 -0.392778 -1.346021 -0.568518 -0.707153 -1.230954   \n",
       "1 -1.565228  1.354813  0.826613  1.336987  1.004617  1.234522 -1.230954   \n",
       "2  0.826913  1.354813 -0.392778 -0.451685 -0.568518  0.263684  0.811467   \n",
       "3 -1.565228  1.354813  0.826613  1.336987 -0.568518  1.234522 -1.230954   \n",
       "4  0.826913 -0.737281  0.826613 -0.451685 -0.568518 -0.707153  0.811467   \n",
       "\n",
       "   Age*Class  \n",
       "0   0.133785  \n",
       "1  -0.436562  \n",
       "2   0.133785  \n",
       "3  -0.436562  \n",
       "4   1.844825  "
      ]
     },
     "execution_count": 23,
     "metadata": {},
     "output_type": "execute_result"
    }
   ],
   "source": [
    "# First center and normalize the data as follows.\n",
    "# Here are the first five lines of the processed data\n",
    "X_train_scaled = (X_train - X_train.mean(axis=0)) / X_train.std(axis=0)\n",
    "X_train_scaled.head()"
   ]
  },
  {
   "cell_type": "code",
   "execution_count": 24,
   "metadata": {},
   "outputs": [],
   "source": [
    "# Cross validator\n",
    "cv = model_selection.KFold(n_splits=5, random_state=1)"
   ]
  },
  {
   "cell_type": "code",
   "execution_count": 25,
   "metadata": {},
   "outputs": [
    {
     "name": "stdout",
     "output_type": "stream",
     "text": [
      "0.8271604938271605\n",
      "Wall time: 1.84 s\n"
     ]
    }
   ],
   "source": [
    "%%time\n",
    "# KNN\n",
    "knn_grid = {\"n_neighbors\" : np.arange(1, 15), \"p\": [1, 2], } \n",
    "knn = model_selection.GridSearchCV(KNeighborsClassifier(), knn_grid,\n",
    "          scoring=\"accuracy\", cv=cv, n_jobs=-1)\n",
    "knn.fit(X_train_scaled, Y_train)\n",
    "print(knn.score(X_train_scaled, Y_train))"
   ]
  },
  {
   "cell_type": "code",
   "execution_count": 26,
   "metadata": {},
   "outputs": [
    {
     "name": "stdout",
     "output_type": "stream",
     "text": [
      "0.813692480359147\n",
      "Wall time: 110 ms\n"
     ]
    }
   ],
   "source": [
    "%%time\n",
    "# Logistic Regression\n",
    "logreg = linear_model.LogisticRegressionCV(cv=cv, max_iter=1000, random_state=1)\n",
    "logreg.fit(X_train_scaled, Y_train)\n",
    "print(logreg.score(X_train_scaled, Y_train))"
   ]
  },
  {
   "cell_type": "code",
   "execution_count": 27,
   "metadata": {},
   "outputs": [
    {
     "name": "stdout",
     "output_type": "stream",
     "text": [
      "0.8439955106621774\n",
      "Wall time: 3.16 s\n"
     ]
    }
   ],
   "source": [
    "%%time\n",
    "# SVC\n",
    "svc_param_grid = {\n",
    "    \"kernel\" : ['linear', 'rbf', 'poly'],\n",
    "    \"C\" : np.logspace(-3, 1, 5),\n",
    "    \"gamma\" : [\"auto\", \"scale\"],\n",
    "    \"degree\" : np.arange(5)\n",
    "}\n",
    "\n",
    "svc = model_selection.GridSearchCV(SVC(random_state=1), svc_param_grid,\n",
    "        scoring=\"accuracy\", cv=cv, n_jobs=-1)\n",
    "svc.fit(X_train_scaled, Y_train)\n",
    "\n",
    "print(svc.score(X_train_scaled, Y_train))"
   ]
  },
  {
   "cell_type": "code",
   "execution_count": 28,
   "metadata": {},
   "outputs": [],
   "source": [
    "# XGBoost has to be manually tuned\n",
    "# We split the training data to get a validation set.\n",
    "X_tr, X_val, Y_tr, Y_val = model_selection.train_test_split(\n",
    "    X_train_scaled, Y_train, test_size=0.3)\n",
    "eval_set = ((X_tr, Y_tr), (X_val, Y_val))\n",
    "eval_metric = [\"auc\", \"error\"]"
   ]
  },
  {
   "cell_type": "code",
   "execution_count": 29,
   "metadata": {},
   "outputs": [
    {
     "name": "stdout",
     "output_type": "stream",
     "text": [
      "[0]\tvalidation_0-auc:0.809465\tvalidation_0-error:0.210273\tvalidation_1-auc:0.79573\tvalidation_1-error:0.208955\n",
      "[50]\tvalidation_0-auc:0.866645\tvalidation_0-error:0.170144\tvalidation_1-auc:0.862723\tvalidation_1-error:0.175373\n",
      "[100]\tvalidation_0-auc:0.868636\tvalidation_0-error:0.170144\tvalidation_1-auc:0.870106\tvalidation_1-error:0.16791\n",
      "[150]\tvalidation_0-auc:0.869665\tvalidation_0-error:0.17175\tvalidation_1-auc:0.873741\tvalidation_1-error:0.171642\n",
      "[199]\tvalidation_0-auc:0.873587\tvalidation_0-error:0.17175\tvalidation_1-auc:0.87334\tvalidation_1-error:0.171642\n",
      "Wall time: 89 ms\n"
     ]
    },
    {
     "data": {
      "text/plain": [
       "XGBClassifier(base_score=0.5, booster='gbtree', colsample_bylevel=1,\n",
       "              colsample_bynode=1, colsample_bytree=0.8, gamma=1,\n",
       "              learning_rate=0.01, max_delta_step=0, max_depth=3,\n",
       "              min_child_weight=1, missing=None, n_estimators=200, n_jobs=1,\n",
       "              nthread=None, objective='binary:logistic', random_state=1,\n",
       "              reg_alpha=0.3, reg_lambda=1, scale_pos_weight=1, seed=None,\n",
       "              silent=None, subsample=0.8, verbosity=1)"
      ]
     },
     "execution_count": 29,
     "metadata": {},
     "output_type": "execute_result"
    }
   ],
   "source": [
    "%%time\n",
    "# Using the validation set we tune the hyperparameters of XGBClassifier.\n",
    "# To avoid overfitting and wasting computation, we stop after 200 trees.\n",
    "xgb = XGBClassifier(scale_pos_weight=1,\n",
    "                  learning_rate=0.01,  \n",
    "                  colsample_bytree=0.8,\n",
    "                  subsample=0.8,\n",
    "                  objective='binary:logistic', \n",
    "                  n_estimators=200, \n",
    "                  reg_alpha=0.3,\n",
    "                  max_depth=3, \n",
    "                  gamma=1,\n",
    "                  random_state=1\n",
    "                )\n",
    "xgb.fit(X_tr, Y_tr, eval_metric=eval_metric, eval_set=eval_set,\n",
    "          verbose=50);"
   ]
  },
  {
   "cell_type": "code",
   "execution_count": 30,
   "metadata": {},
   "outputs": [
    {
     "name": "stdout",
     "output_type": "stream",
     "text": [
      "0.8305274971941639\n"
     ]
    }
   ],
   "source": [
    "# After that we use the hyperparameters and fit on the whole training set.\n",
    "xgb.fit(X_train_scaled, Y_train)\n",
    "print(xgb.score(X_train_scaled, Y_train))"
   ]
  },
  {
   "cell_type": "code",
   "execution_count": 31,
   "metadata": {},
   "outputs": [],
   "source": [
    "# Random Forest Classifier\n",
    "rfc = RandomForestClassifier(n_estimators=100)\n",
    "rfc.fit(X_train_scaled, Y_train);"
   ]
  },
  {
   "cell_type": "code",
   "execution_count": 32,
   "metadata": {},
   "outputs": [],
   "source": [
    "# We ensemble these three methods, and do not refit.\n",
    "model_dict = {\n",
    "    \"knn\": knn,\n",
    "    \"xgb\": xgb,\n",
    "    \"logreg\": logreg,\n",
    "    \"svc\": svc,\n",
    "    \"random forest\": rfc\n",
    "}\n",
    "model = my_ensemble_model().fit(X_train_scaled, Y_train, hold=True)"
   ]
  },
  {
   "cell_type": "code",
   "execution_count": 33,
   "metadata": {},
   "outputs": [
    {
     "data": {
      "text/html": [
       "<div>\n",
       "<style scoped>\n",
       "    .dataframe tbody tr th:only-of-type {\n",
       "        vertical-align: middle;\n",
       "    }\n",
       "\n",
       "    .dataframe tbody tr th {\n",
       "        vertical-align: top;\n",
       "    }\n",
       "\n",
       "    .dataframe thead th {\n",
       "        text-align: right;\n",
       "    }\n",
       "</style>\n",
       "<table border=\"1\" class=\"dataframe\">\n",
       "  <thead>\n",
       "    <tr style=\"text-align: right;\">\n",
       "      <th></th>\n",
       "      <th>Pclass</th>\n",
       "      <th>Sex</th>\n",
       "      <th>Age</th>\n",
       "      <th>Fare</th>\n",
       "      <th>Embarked</th>\n",
       "      <th>Title</th>\n",
       "      <th>IsAlone</th>\n",
       "      <th>Age*Class</th>\n",
       "    </tr>\n",
       "  </thead>\n",
       "  <tbody>\n",
       "    <tr>\n",
       "      <th>0</th>\n",
       "      <td>0.841595</td>\n",
       "      <td>-0.743213</td>\n",
       "      <td>0.844713</td>\n",
       "      <td>-1.331338</td>\n",
       "      <td>2.457243</td>\n",
       "      <td>-0.716789</td>\n",
       "      <td>0.810222</td>\n",
       "      <td>1.968703</td>\n",
       "    </tr>\n",
       "    <tr>\n",
       "      <th>1</th>\n",
       "      <td>0.841595</td>\n",
       "      <td>1.344482</td>\n",
       "      <td>0.844713</td>\n",
       "      <td>-1.331338</td>\n",
       "      <td>-0.603205</td>\n",
       "      <td>1.239992</td>\n",
       "      <td>-1.233286</td>\n",
       "      <td>1.968703</td>\n",
       "    </tr>\n",
       "    <tr>\n",
       "      <th>2</th>\n",
       "      <td>-0.351956</td>\n",
       "      <td>-0.743213</td>\n",
       "      <td>2.089905</td>\n",
       "      <td>-0.444005</td>\n",
       "      <td>2.457243</td>\n",
       "      <td>-0.716789</td>\n",
       "      <td>0.810222</td>\n",
       "      <td>1.968703</td>\n",
       "    </tr>\n",
       "    <tr>\n",
       "      <th>3</th>\n",
       "      <td>0.841595</td>\n",
       "      <td>-0.743213</td>\n",
       "      <td>-0.400478</td>\n",
       "      <td>-0.444005</td>\n",
       "      <td>-0.603205</td>\n",
       "      <td>-0.716789</td>\n",
       "      <td>0.810222</td>\n",
       "      <td>0.160259</td>\n",
       "    </tr>\n",
       "    <tr>\n",
       "      <th>4</th>\n",
       "      <td>0.841595</td>\n",
       "      <td>1.344482</td>\n",
       "      <td>-0.400478</td>\n",
       "      <td>-0.444005</td>\n",
       "      <td>-0.603205</td>\n",
       "      <td>1.239992</td>\n",
       "      <td>-1.233286</td>\n",
       "      <td>0.160259</td>\n",
       "    </tr>\n",
       "  </tbody>\n",
       "</table>\n",
       "</div>"
      ],
      "text/plain": [
       "     Pclass       Sex       Age      Fare  Embarked     Title   IsAlone  \\\n",
       "0  0.841595 -0.743213  0.844713 -1.331338  2.457243 -0.716789  0.810222   \n",
       "1  0.841595  1.344482  0.844713 -1.331338 -0.603205  1.239992 -1.233286   \n",
       "2 -0.351956 -0.743213  2.089905 -0.444005  2.457243 -0.716789  0.810222   \n",
       "3  0.841595 -0.743213 -0.400478 -0.444005 -0.603205 -0.716789  0.810222   \n",
       "4  0.841595  1.344482 -0.400478 -0.444005 -0.603205  1.239992 -1.233286   \n",
       "\n",
       "   Age*Class  \n",
       "0   1.968703  \n",
       "1   1.968703  \n",
       "2   1.968703  \n",
       "3   0.160259  \n",
       "4   0.160259  "
      ]
     },
     "execution_count": 33,
     "metadata": {},
     "output_type": "execute_result"
    }
   ],
   "source": [
    "# Now scale the test data along with the training data.\n",
    "# Here are the first five row of the transformed test data.\n",
    "X_combine = pd.concat([X_train, X_test])\n",
    "X_test_scaled = (X_test - X_combine.mean(axis=0)) / X_combine.std(axis=0)\n",
    "X_test_scaled.head()"
   ]
  },
  {
   "cell_type": "code",
   "execution_count": 34,
   "metadata": {},
   "outputs": [],
   "source": [
    "# Last we use our ensemble model to make predictions.\n",
    "pred = model.predict(X_test_scaled)"
   ]
  },
  {
   "cell_type": "code",
   "execution_count": 35,
   "metadata": {},
   "outputs": [
    {
     "data": {
      "text/html": [
       "<div>\n",
       "<style scoped>\n",
       "    .dataframe tbody tr th:only-of-type {\n",
       "        vertical-align: middle;\n",
       "    }\n",
       "\n",
       "    .dataframe tbody tr th {\n",
       "        vertical-align: top;\n",
       "    }\n",
       "\n",
       "    .dataframe thead th {\n",
       "        text-align: right;\n",
       "    }\n",
       "</style>\n",
       "<table border=\"1\" class=\"dataframe\">\n",
       "  <thead>\n",
       "    <tr style=\"text-align: right;\">\n",
       "      <th></th>\n",
       "      <th>PassengerID</th>\n",
       "      <th>Survived</th>\n",
       "    </tr>\n",
       "  </thead>\n",
       "  <tbody>\n",
       "    <tr>\n",
       "      <th>0</th>\n",
       "      <td>892</td>\n",
       "      <td>0</td>\n",
       "    </tr>\n",
       "    <tr>\n",
       "      <th>1</th>\n",
       "      <td>893</td>\n",
       "      <td>0</td>\n",
       "    </tr>\n",
       "    <tr>\n",
       "      <th>2</th>\n",
       "      <td>894</td>\n",
       "      <td>0</td>\n",
       "    </tr>\n",
       "    <tr>\n",
       "      <th>3</th>\n",
       "      <td>895</td>\n",
       "      <td>0</td>\n",
       "    </tr>\n",
       "    <tr>\n",
       "      <th>4</th>\n",
       "      <td>896</td>\n",
       "      <td>1</td>\n",
       "    </tr>\n",
       "  </tbody>\n",
       "</table>\n",
       "</div>"
      ],
      "text/plain": [
       "   PassengerID  Survived\n",
       "0          892         0\n",
       "1          893         0\n",
       "2          894         0\n",
       "3          895         0\n",
       "4          896         1"
      ]
     },
     "execution_count": 35,
     "metadata": {},
     "output_type": "execute_result"
    }
   ],
   "source": [
    "# We assemble the predictions in order to make submission to kaggle.\n",
    "submission = pd.DataFrame(\n",
    "    {\n",
    "        \"PassengerID\": test_df[\"PassengerId\"],\n",
    "        \"Survived\": pred\n",
    "    }\n",
    ")\n",
    "submission.head()"
   ]
  },
  {
   "cell_type": "code",
   "execution_count": 36,
   "metadata": {},
   "outputs": [],
   "source": [
    "submission.to_csv(\"submission.csv\", index=False)"
   ]
  },
  {
   "cell_type": "code",
   "execution_count": 37,
   "metadata": {},
   "outputs": [],
   "source": [
    "# Done!"
   ]
  },
  {
   "cell_type": "markdown",
   "metadata": {},
   "source": [
    "### Conslusion: With the latest submission to Kaggle under team name \"miaonima\" at 12:10 pm 11/19/2019, the score for public test is 0.79904. "
   ]
  }
 ],
 "metadata": {
  "_change_revision": 0,
  "_is_fork": false,
  "kernelspec": {
   "display_name": "Python 3",
   "language": "python",
   "name": "python3"
  },
  "language_info": {
   "codemirror_mode": {
    "name": "ipython",
    "version": 3
   },
   "file_extension": ".py",
   "mimetype": "text/x-python",
   "name": "python",
   "nbconvert_exporter": "python",
   "pygments_lexer": "ipython3",
   "version": "3.7.5"
  }
 },
 "nbformat": 4,
 "nbformat_minor": 1
}
